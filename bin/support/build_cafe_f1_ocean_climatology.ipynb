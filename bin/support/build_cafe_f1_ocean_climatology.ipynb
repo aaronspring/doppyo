{
 "cells": [
  {
   "cell_type": "markdown",
   "metadata": {},
   "source": [
    "# This notebook processes CAFE f1 ocean daily data for building climatologies. Only the first 2 years of the forecasts from the period 2003-2015 are used.\n",
    "Temporary files are written to `tmp_fldr`"
   ]
  },
  {
   "cell_type": "code",
   "execution_count": null,
   "metadata": {
    "ExecuteTime": {
     "end_time": "2018-06-12T06:53:17.708476Z",
     "start_time": "2018-06-12T06:53:16.617709Z"
    },
    "code_folding": [
     0
    ]
   },
   "outputs": [],
   "source": [
    "# Import packages -----\n",
    "import pandas as pd\n",
    "import xarray as xr\n",
    "import numpy as np\n",
    "from pylatte import utils\n",
    "from ipywidgets import FloatProgress"
   ]
  },
  {
   "cell_type": "markdown",
   "metadata": {},
   "source": [
    "#### Initialise"
   ]
  },
  {
   "cell_type": "code",
   "execution_count": null,
   "metadata": {
    "ExecuteTime": {
     "end_time": "2018-06-12T06:53:17.760043Z",
     "start_time": "2018-06-12T06:53:17.711543Z"
    },
    "code_folding": [
     0
    ],
    "scrolled": false
   },
   "outputs": [],
   "source": [
    "# Location of forecast data -----\n",
    "fcst_folder = '/OSM/CBR/OA_DCFP/data/model_output/CAFE/forecasts/v1/'\n",
    "fcst_filename = 'ocean_daily*'\n",
    "\n",
    "fields = pd.DataFrame( \\\n",
    "        {'name_CAFE': ['sst', 'patm_t', 'eta_t', 'sss', 'u_surf', 'v_surf'],\n",
    "         'name_std' : ['sst', 'patm',   'eta',   'sss', 'u_s',    'v_s']}\n",
    "                     )\n",
    "\n",
    "name_dict = fields.set_index('name_CAFE').to_dict()['name_std']\n",
    "\n",
    "fields"
   ]
  },
  {
   "cell_type": "markdown",
   "metadata": {},
   "source": [
    "#### Save each init month and variable separately due to memory considerations (this is only necessary for multi-level variables, but all are dealt with in the same way for simplicity)"
   ]
  },
  {
   "cell_type": "code",
   "execution_count": null,
   "metadata": {
    "ExecuteTime": {
     "end_time": "2018-06-12T06:53:17.765460Z",
     "start_time": "2018-06-12T06:53:17.762492Z"
    },
    "code_folding": [
     0
    ]
   },
   "outputs": [],
   "source": [
    "# Temporary folder location -----\n",
    "tmp_fldr = '/OSM/CBR/OA_DCFP/data/intermediate_products/pylatte_climatologies/tmp/'"
   ]
  },
  {
   "cell_type": "code",
   "execution_count": null,
   "metadata": {
    "ExecuteTime": {
     "start_time": "2018-06-12T06:53:16.605Z"
    },
    "code_folding": [
     0
    ]
   },
   "outputs": [],
   "source": [
    "# Loop over forecasts, saving numerator and denominator of mean -----\n",
    "years = range(2003,2016)\n",
    "months = range(1,13)\n",
    "ensembles = range(1,12)\n",
    "\n",
    "for idx, variable in enumerate(fields['name_CAFE']):\n",
    "    print(variable)\n",
    "    print('----------')\n",
    "        \n",
    "    for year in years:\n",
    "        print(year)\n",
    "\n",
    "        for month in months:\n",
    "            print(month)\n",
    "            \n",
    "            # First see if file already exists -----\n",
    "            savename = 'cafe.fcst.v1.ocean.' + fields['name_std'][idx] + '.' + str(year) + '.' + str(month) + '.clim.nc'\n",
    "            try:\n",
    "                xr.open_dataset(tmp_fldr + savename, autoclose=True)\n",
    "            except:\n",
    "                ens_list = []\n",
    "                ens = []\n",
    "                empty = True\n",
    "                for ie, ensemble in enumerate(ensembles):\n",
    "\n",
    "                    path = fcst_folder + '/yr' + str(year) + '/mn' + str(month) + \\\n",
    "                           '/OUTPUT.' + str(ensemble) + '/' + fcst_filename + '.nc'\n",
    "\n",
    "                    # Try to stack ensembles into a list -----\n",
    "                    try:\n",
    "                        dataset = xr.open_mfdataset(path, autoclose=True)[variable]\n",
    "\n",
    "                        # Truncate to 2 year forecasts -----\n",
    "                        n_trunc = min([731, len(dataset.time)])\n",
    "                        dataset = dataset.isel(time=range(n_trunc))\n",
    "\n",
    "                        if 'xu_ocean' in dataset.dims:\n",
    "                            dataset = dataset.rename({'xu_ocean':'lon_u','yu_ocean':'lat_u'})\n",
    "                        if 'xt_ocean' in dataset.dims:\n",
    "                            dataset = dataset.rename({'xt_ocean':'lon_t','yt_ocean':'lat_t'})\n",
    "                        ens_list.append(dataset.rename(fields['name_std'][idx]))\n",
    "                        ens.append(ie+1)\n",
    "                        empty = False\n",
    "                    except OSError:\n",
    "                        # File does not exist -----\n",
    "                        pass\n",
    "\n",
    "                # Concatenate ensembles -----\n",
    "                if empty == False:\n",
    "                    ds = xr.concat(ens_list, dim='ensemble')\n",
    "                    ds['ensemble'] = ens\n",
    "\n",
    "                    # Make month_day array of month-day -----\n",
    "                    m = np.array([str(i).zfill(2) + '-' for i in ds.time.dt.month.values])\n",
    "                    d = np.array([str(i).zfill(2)  for i in ds.time.dt.day.values])\n",
    "                    md = np.core.defchararray.add(m, d)\n",
    "\n",
    "                    # Replace time array with month_day array and groupby -----\n",
    "                    ds['time'] = md\n",
    "                    ds_clim = ds.groupby('time').sum(dim='time',keep_attrs=True).to_dataset(name='sum').mean(dim='ensemble')\n",
    "                    get_len = lambda ds, dim : ds.count(dim=dim)\n",
    "                    ds_clim['count'] = ds['time'].groupby('time').apply(get_len, dim='time')\n",
    "\n",
    "                    ds_clim.to_netcdf(path = tmp_fldr + savename, mode = 'w')\n",
    "\n",
    "                    del ds, ds_clim"
   ]
  },
  {
   "cell_type": "markdown",
   "metadata": {},
   "source": [
    "#### Combine and write into single climatology file"
   ]
  },
  {
   "cell_type": "code",
   "execution_count": null,
   "metadata": {
    "ExecuteTime": {
     "end_time": "2018-06-12T07:17:13.049092Z",
     "start_time": "2018-06-12T07:17:01.633619Z"
    },
    "code_folding": [
     0
    ]
   },
   "outputs": [],
   "source": [
    "# Use year 2016 as time -----\n",
    "path = fcst_folder + '/yr2016/mn1/OUTPUT.1/' + fcst_filename + '.nc'\n",
    "dataset = xr.open_mfdataset(path, autoclose=True)\n",
    "time_use = dataset.time[:366]"
   ]
  },
  {
   "cell_type": "code",
   "execution_count": null,
   "metadata": {
    "ExecuteTime": {
     "end_time": "2018-06-12T07:18:06.032018Z",
     "start_time": "2018-06-12T07:17:13.052910Z"
    },
    "code_folding": [
     0
    ],
    "scrolled": true
   },
   "outputs": [],
   "source": [
    "# Loop over all variables -----\n",
    "for idx, variable in enumerate(fields['name_std']):\n",
    "    print(variable)\n",
    "    print('----------')\n",
    "    \n",
    "    name = 'cafe.fcst.v1.ocean.' + fields['name_std'][idx] + '*' + '.clim.nc'\n",
    "    ds = xr.open_mfdataset(tmp_fldr + name, autoclose=True, concat_dim='run')\n",
    "    numer = ds['sum'].sum(dim='run')\n",
    "    denom = ds['count'].sum(dim='run')\n",
    "    if idx == 0:\n",
    "        clim = (numer / denom).to_dataset(name=variable)\n",
    "    else: \n",
    "        clim[variable] = (numer / denom).rename(variable)\n",
    "\n",
    "clim['time'] = time_use"
   ]
  },
  {
   "cell_type": "code",
   "execution_count": null,
   "metadata": {
    "ExecuteTime": {
     "start_time": "2018-06-12T07:18:08.020Z"
    },
    "code_folding": [
     0
    ]
   },
   "outputs": [],
   "source": [
    "# Save the climatology -----\n",
    "save_fldr = '/OSM/CBR/OA_DCFP/data/intermediate_products/pylatte_climatologies/'\n",
    "clim.to_netcdf(save_fldr + 'cafe.f1.ocean.2003010112_2017123112.clim.nc', mode = 'w',\n",
    "               encoding = {'time':{'dtype':'float','calendar':'JULIAN',\n",
    "                           'units':'days since 0001-01-01 00:00:00'}})"
   ]
  },
  {
   "cell_type": "code",
   "execution_count": null,
   "metadata": {},
   "outputs": [],
   "source": []
  }
 ],
 "metadata": {
  "kernelspec": {
   "display_name": "Python [conda env:pylatte_env]",
   "language": "python",
   "name": "conda-env-pylatte_env-py"
  },
  "language_info": {
   "codemirror_mode": {
    "name": "ipython",
    "version": 3
   },
   "file_extension": ".py",
   "mimetype": "text/x-python",
   "name": "python",
   "nbconvert_exporter": "python",
   "pygments_lexer": "ipython3",
   "version": "3.6.4"
  }
 },
 "nbformat": 4,
 "nbformat_minor": 2
}
