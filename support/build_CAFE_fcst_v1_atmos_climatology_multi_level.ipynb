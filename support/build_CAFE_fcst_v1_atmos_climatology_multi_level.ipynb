{
 "cells": [
  {
   "cell_type": "markdown",
   "metadata": {},
   "source": [
    "# This notebook saves CAFE v1 atmospheric daily climatologies in a single dataset"
   ]
  },
  {
   "cell_type": "markdown",
   "metadata": {},
   "source": [
    "#### IMPORTANT: If adapting this code to save other climatologies, be careful to only include full years, as pyLatte will compute monthly climatologies from the saved daily climatologies"
   ]
  },
  {
   "cell_type": "code",
   "execution_count": null,
   "metadata": {},
   "outputs": [],
   "source": [
    "import pandas as pd\n",
    "import xarray as xr\n",
    "import numpy as np\n",
    "from pylatte import utils\n",
    "from ipywidgets import FloatProgress"
   ]
  },
  {
   "cell_type": "markdown",
   "metadata": {},
   "source": [
    "#### Initialise"
   ]
  },
  {
   "cell_type": "code",
   "execution_count": null,
   "metadata": {
    "scrolled": true
   },
   "outputs": [],
   "source": [
    "# Location of forecast data -----\n",
    "fcst_folder = '/OSM/CBR/OA_DCFP/data/model_output/CAFE/forecasts/v1/'\n",
    "fcst_filename = 'atmos_daily*'\n",
    "\n",
    "fields = pd.DataFrame( \\\n",
    "        {'name_CAFE': ['hght', 'sphum', 'temp', 'ucomp', 'vcomp'],\n",
    "         'name_std' : ['gh',   'sphum', 'temp', 'u',     'v']}\n",
    "                     )\n",
    "name_dict = fields.set_index('name_CAFE').to_dict()['name_std']\n",
    "\n",
    "fields\n"
   ]
  },
  {
   "cell_type": "code",
   "execution_count": null,
   "metadata": {},
   "outputs": [],
   "source": [
    "# Initial dates to include (takes approximately 1 min 30 sec per date) -----\n",
    "init_dates = pd.date_range('2002-2','2016-5' , freq='1MS')\n",
    "\n",
    "# Ensembles to include -----\n",
    "ensembles = range(1,12)"
   ]
  },
  {
   "cell_type": "markdown",
   "metadata": {},
   "source": [
    "#### Load one 366 day long year to provide time array"
   ]
  },
  {
   "cell_type": "code",
   "execution_count": null,
   "metadata": {},
   "outputs": [],
   "source": [
    "path = fcst_folder + '/yr2016/mn1/OUTPUT.1/' + fcst_filename + '.nc'\n",
    "dataset = xr.open_mfdataset(path, autoclose=True)\n",
    "time_use = dataset.time[:366]"
   ]
  },
  {
   "cell_type": "markdown",
   "metadata": {},
   "source": [
    "#### Save each year and variable separately due to memory considerations"
   ]
  },
  {
   "cell_type": "code",
   "execution_count": null,
   "metadata": {},
   "outputs": [],
   "source": [
    "years = range(2002,2017)\n",
    "months = range(1,13)\n",
    "ensembles = range(1,12)\n",
    "\n",
    "\n",
    "for idx, variable in enumerate(fields['name_CAFE']):\n",
    "    print(variable)\n",
    "    print('----------')\n",
    "        \n",
    "    for year in years:\n",
    "        print(year)\n",
    "\n",
    "        savename = 'cafe.fcst.v1.atmos.' + fields['name_std'][idx] + '.' + str(year) + '.clim.nc'\n",
    "        try:\n",
    "            temp = xr.open_mfdataset('/OSM/CBR/OA_DCFP/data/intermediate_products/pylatte_climatologies/' + savename, autoclose=True)\n",
    "            print('    Already exists')\n",
    "        except:\n",
    "            \n",
    "            fcst_list = []\n",
    "            for month in months:\n",
    "\n",
    "                ens_list = []\n",
    "                ens = []\n",
    "                empty = True\n",
    "                for ie, ensemble in enumerate(ensembles):\n",
    "\n",
    "                    path = fcst_folder + '/yr' + str(year) + '/mn' + str(month) + \\\n",
    "                           '/OUTPUT.' + str(ensemble) + '/' + fcst_filename + '.nc'\n",
    "\n",
    "                    # Try to stack ensembles into a list -----\n",
    "                    try:\n",
    "                        dataset = xr.open_mfdataset(path, autoclose=True)[variable]\n",
    "                        if 'latb' in dataset.dims:\n",
    "                            dataset = dataset.rename({'latb':'lat_2','lonb':'lon_2'})\n",
    "                        ens_list.append(dataset.rename(fields['name_std'][idx]))\n",
    "                        ens.append(ie+1)\n",
    "                        empty = False\n",
    "                    except OSError:\n",
    "                        # File does not exist -----\n",
    "                        pass\n",
    "\n",
    "                # Concatenate ensembles -----\n",
    "                if empty == False:\n",
    "                    ens_object = xr.concat(ens_list, dim='ensemble')\n",
    "                    ens_object['ensemble'] = ens\n",
    "\n",
    "                    # Stack concatenated ensembles into a list for each month in a year -----                       \n",
    "                    fcst_list.append(ens_object)\n",
    "\n",
    "            # Concatenate all months within year -----\n",
    "            ds = xr.concat(fcst_list, dim='time')\n",
    "\n",
    "            # Rechunk for chunksizes of at least 1,000,000 elements -----\n",
    "            ds = utils.prune(ds.chunk(chunks={'ensemble' : len(ds.ensemble), \n",
    "                                              'time' : len(ds.time)}).squeeze())\n",
    "\n",
    "            # Make month_day array of month-day -----\n",
    "            m = np.array([str(i).zfill(2) + '-' for i in ds.time.dt.month.values])\n",
    "            d = np.array([str(i).zfill(2)  for i in ds.time.dt.day.values])\n",
    "            md = np.core.defchararray.add(m, d)\n",
    "            \n",
    "            # Replace time array with month_day array and groupby -----\n",
    "            ds['time'] = md\n",
    "            ds_clim = ds.groupby('time').mean(dim=['time','ensemble'],keep_attrs=True)\n",
    "\n",
    "            # Fill time with presaved time -----\n",
    "            ds_clim['time'] = time_use\n",
    "            ds_clim.time.attrs['long_name'] = 'time'\n",
    "            ds_clim.time.attrs['cartesian_axis'] = 'T'\n",
    "            ds_clim.time.attrs['calendar_type'] = 'JULIAN'\n",
    "            ds_clim.time.attrs['bounds'] = 'time_bounds'\n",
    "\n",
    "            # Save and delete -----\n",
    "            with utils.timer():\n",
    "                ds_clim.to_netcdf(path='/OSM/CBR/OA_DCFP/data/intermediate_products/pylatte_climatologies/' + savename,\n",
    "                                  mode = 'w',\n",
    "                                  encoding = {'time':{'dtype':'float','calendar':'JULIAN',\n",
    "                                                      'units':'days since 0001-01-01 00:00:00'}}) \n",
    "\n",
    "            del ds, ds_clim"
   ]
  },
  {
   "cell_type": "code",
   "execution_count": null,
   "metadata": {},
   "outputs": [],
   "source": []
  }
 ],
 "metadata": {
  "kernelspec": {
   "display_name": "Python [conda env:pylatte_env]",
   "language": "python",
   "name": "conda-env-pylatte_env-py"
  },
  "language_info": {
   "codemirror_mode": {
    "name": "ipython",
    "version": 3
   },
   "file_extension": ".py",
   "mimetype": "text/x-python",
   "name": "python",
   "nbconvert_exporter": "python",
   "pygments_lexer": "ipython3",
   "version": "3.6.4"
  }
 },
 "nbformat": 4,
 "nbformat_minor": 2
}
