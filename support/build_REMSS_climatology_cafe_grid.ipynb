{
 "cells": [
  {
   "cell_type": "code",
   "execution_count": 1,
   "metadata": {
    "ExecuteTime": {
     "end_time": "2018-04-30T07:55:19.832700Z",
     "start_time": "2018-04-30T07:55:18.547965Z"
    }
   },
   "outputs": [],
   "source": [
    "import numpy as np\n",
    "import xarray as xr\n",
    "import subprocess\n",
    "import os\n",
    "\n",
    "from ipywidgets import FloatProgress"
   ]
  },
  {
   "cell_type": "markdown",
   "metadata": {},
   "source": [
    "##### Define CDO parameters"
   ]
  },
  {
   "cell_type": "code",
   "execution_count": 2,
   "metadata": {
    "ExecuteTime": {
     "end_time": "2018-04-30T07:55:21.263031Z",
     "start_time": "2018-04-30T07:55:21.257745Z"
    }
   },
   "outputs": [],
   "source": [
    "cdo_path = '/apps/cdo/1.6.3/bin/'\n",
    "\n",
    "# Name and location of temporary files when using cdo/nco -----\n",
    "tmp_fldr = '/OSM/CBR/OA_DCFP/data/intermediate_products/squ027/tmp1/'\n",
    "tmp_in = tmp_fldr + 'tmp_in.nc'\n",
    "tmp_out = tmp_fldr + 'tmp_out.nc'"
   ]
  },
  {
   "cell_type": "markdown",
   "metadata": {},
   "source": [
    "# Get the model grid\n",
    "##### First rename variables to be cdo-compliant - tried to do this using nco, but it was slower"
   ]
  },
  {
   "cell_type": "code",
   "execution_count": 3,
   "metadata": {
    "ExecuteTime": {
     "end_time": "2018-04-30T07:55:25.096538Z",
     "start_time": "2018-04-30T07:55:23.239322Z"
    }
   },
   "outputs": [],
   "source": [
    "in_file = '/OSM/CBR/OA_DCFP/data/model_output/CAFE/forecasts/v1/yr2002/mn2/OUTPUT.1/ocean_daily_2002_02_01.nc'\n",
    "out_file = tmp_in\n",
    "xr.open_dataset(in_file, autoclose=True, decode_times = False)['sst'] \\\n",
    "                .rename('sst') \\\n",
    "                .rename({'yt_ocean':'lat','xt_ocean':'lon'}) \\\n",
    "                .to_netcdf(out_file)"
   ]
  },
  {
   "cell_type": "markdown",
   "metadata": {},
   "source": [
    "##### Now generate cdo-compliant 'grid' file"
   ]
  },
  {
   "cell_type": "code",
   "execution_count": 4,
   "metadata": {
    "ExecuteTime": {
     "end_time": "2018-04-30T07:55:28.741861Z",
     "start_time": "2018-04-30T07:55:28.547892Z"
    }
   },
   "outputs": [],
   "source": [
    "in_file = tmp_in\n",
    "out_file = tmp_fldr + 'cafe_v1_ocean_grid_def'\n",
    "command = cdo_path + 'cdo griddes ' + in_file + ' > ' + out_file\n",
    "subprocess.call(command, shell=True)\n",
    "\n",
    "# Delete temporary file ----\n",
    "os.remove(tmp_in)"
   ]
  },
  {
   "cell_type": "markdown",
   "metadata": {},
   "source": [
    "# Interpolate observation file"
   ]
  },
  {
   "cell_type": "code",
   "execution_count": null,
   "metadata": {
    "ExecuteTime": {
     "start_time": "2018-04-30T07:55:36.527Z"
    },
    "scrolled": true
   },
   "outputs": [
    {
     "data": {
      "application/vnd.jupyter.widget-view+json": {
       "model_id": "73a86a2dabac411fa1bd414a141af323",
       "version_major": 2,
       "version_minor": 0
      },
      "text/html": [
       "<p>Failed to display Jupyter Widget of type <code>FloatProgress</code>.</p>\n",
       "<p>\n",
       "  If you're reading this message in the Jupyter Notebook or JupyterLab Notebook, it may mean\n",
       "  that the widgets JavaScript is still loading. If this message persists, it\n",
       "  likely means that the widgets JavaScript library is either not installed or\n",
       "  not enabled. See the <a href=\"https://ipywidgets.readthedocs.io/en/stable/user_install.html\">Jupyter\n",
       "  Widgets Documentation</a> for setup instructions.\n",
       "</p>\n",
       "<p>\n",
       "  If you're reading this message in another frontend (for example, a static\n",
       "  rendering on GitHub or <a href=\"https://nbviewer.jupyter.org/\">NBViewer</a>),\n",
       "  it may mean that your frontend doesn't currently support widgets.\n",
       "</p>\n"
      ],
      "text/plain": [
       "FloatProgress(value=0.0, description='Loading...', max=2.0)"
      ]
     },
     "metadata": {},
     "output_type": "display_data"
    }
   ],
   "source": [
    "# Location of observation data -----\n",
    "obsv_folder = '/OSM/CBR/OA_DCFP/data/observations/sst/remss/v05.0/'\n",
    "years = range(2002,2004)\n",
    "obsv_filename = '*-REMSS-*.nc'\n",
    "resample_freq = 'MS'\n",
    "\n",
    "# Instantiate progress bar -----\n",
    "f = FloatProgress(min=0, max=len(years), description='Loading...') \n",
    "display(f)\n",
    "\n",
    "file_list =[]\n",
    "for year in years:\n",
    "    path = obsv_folder + str(year) + '/' + obsv_filename\n",
    "    \n",
    "    # Save file temporarily in cdo-compliant format -----\n",
    "    tmp = xr.open_mfdataset(path, autoclose=True, decode_times = False)['analysed_sst'].rename('sst')\n",
    "    time_units = tmp.time.attrs['units']  # Must keep track of units as cdo will \n",
    "    calendar = 'standard' # convert to its preferred units1\n",
    "    tmp['time'] = xr.coding.times.decode_cf_datetime(tmp.time,units=time_units,calendar=calendar)\n",
    "    tmp.to_netcdf(tmp_in, encoding = {'time':{'dtype':'float','calendar':calendar, \\\n",
    "                                              'units':time_units}})\n",
    "    \n",
    "    # Perform interpolation using cdo -----\n",
    "    in_file = tmp_in\n",
    "    out_file = tmp_out[:-3] + '_' + str(year) + tmp_out[-3:]\n",
    "    command = cdo_path + 'cdo remapbil,' + tmp_fldr + 'cafe_v1_ocean_grid_def ' + in_file + ' ' + out_file\n",
    "    subprocess.call(command, shell=True)\n",
    "    \n",
    "    # Load cdo-interpolated file and feed into list -----\n",
    "    data = xr.open_dataset(out_file, autoclose=True, decode_times=False)\n",
    "    data['time'] = xr.coding.times.decode_cf_datetime(data.time,units=time_units,calendar=calendar)\n",
    "    \n",
    "    # CDO seems to round the lat/lon values so that they are the same to within 1*10^-8, \n",
    "    # but not identical - use the actual interpolation grid -----\n",
    "    in_file = '/OSM/CBR/OA_DCFP/data/model_output/CAFE/forecasts/v1/yr2002/mn2/OUTPUT.1/ocean_daily_2002_02_01.nc'\n",
    "    for_grid = xr.open_dataset(in_file, autoclose=True, decode_times = False)['sst'] \\\n",
    "                    .rename({'yt_ocean':'lat','xt_ocean':'lon'})\n",
    "    data['lat'] = for_grid['lat']\n",
    "    data['lon'] = for_grid['lon']\n",
    "    \n",
    "    file_list.append(data)\n",
    "    \n",
    "    # Delete temporary files -----\n",
    "    os.remove(tmp_in)\n",
    "    \n",
    "    f.value += 1 \n",
    "    \n",
    "data = xr.concat(file_list,'time')"
   ]
  },
  {
   "cell_type": "code",
   "execution_count": null,
   "metadata": {},
   "outputs": [],
   "source": [
    "time_use = data.time[]\n",
    "\n",
    "# Make month_day array of month-day -----\n",
    "m = np.array([str(i).zfill(2) + '-' for i in data.time.dt.month.values])\n",
    "d = np.array([str(i).zfill(2)  for i in data.time.dt.day.values])\n",
    "md = np.core.defchararray.add(m, d)\n",
    "\n",
    "# Replace time array with month_day array and groupby -----\n",
    "data['time'] = md\n",
    "data_clim = data.groupby('time').mean(dim='time',keep_attrs=True)\n",
    "\n",
    "# Fill time with presaved time -----\n",
    "ds_clim['time'] = time_use\n",
    "ds_clim.time.attrs['long_name'] = 'time'\n",
    "ds_clim.time.attrs['cartesian_axis'] = 'T'\n",
    "ds_clim.time.attrs['calendar_type'] = 'JULIAN'\n",
    "ds_clim.time.attrs['bounds'] = 'time_bounds'"
   ]
  },
  {
   "cell_type": "markdown",
   "metadata": {},
   "source": [
    "# Save the bundled/interpolated array"
   ]
  },
  {
   "cell_type": "code",
   "execution_count": 6,
   "metadata": {
    "scrolled": true
   },
   "outputs": [],
   "source": [
    "save_fldr = '/OSM/CBR/OA_DCFP/data/intermediate_products/pylatte_climatologies/'\n",
    "savename = 'REMSS.2002060112_2017123112.clim.nc'\n",
    "data.to_netcdf(save_fldr + save_name, encoding = {'time':{'dtype':'float','calendar':calendar,\n",
    "                                                          'units':time_units}},\n",
    "                                      format='NETCDF4')"
   ]
  },
  {
   "cell_type": "code",
   "execution_count": null,
   "metadata": {},
   "outputs": [],
   "source": []
  }
 ],
 "metadata": {
  "kernelspec": {
   "display_name": "Python [conda env:pylatte_env]",
   "language": "python",
   "name": "conda-env-pylatte_env-py"
  },
  "language_info": {
   "codemirror_mode": {
    "name": "ipython",
    "version": 3
   },
   "file_extension": ".py",
   "mimetype": "text/x-python",
   "name": "python",
   "nbconvert_exporter": "python",
   "pygments_lexer": "ipython3",
   "version": "3.6.4"
  }
 },
 "nbformat": 4,
 "nbformat_minor": 2
}
