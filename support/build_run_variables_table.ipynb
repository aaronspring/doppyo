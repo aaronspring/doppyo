{
 "cells": [
  {
   "cell_type": "code",
   "execution_count": 83,
   "metadata": {},
   "outputs": [],
   "source": [
    "import glob\n",
    "import os\n",
    "import pandas as pd\n",
    "from collections import defaultdict\n",
    "import netCDF4"
   ]
  },
  {
   "cell_type": "markdown",
   "metadata": {},
   "source": [
    "### Initialize nested dictionary"
   ]
  },
  {
   "cell_type": "code",
   "execution_count": 97,
   "metadata": {},
   "outputs": [],
   "source": [
    "nested_dict = lambda: defaultdict(nested_dict)\n",
    "var_dict = nested_dict()"
   ]
  },
  {
   "cell_type": "markdown",
   "metadata": {},
   "source": [
    "### Control runs"
   ]
  },
  {
   "cell_type": "code",
   "execution_count": 108,
   "metadata": {},
   "outputs": [
    {
     "ename": "StopIteration",
     "evalue": "",
     "output_type": "error",
     "traceback": [
      "\u001b[0;31m---------------------------------------------------------------------------\u001b[0m",
      "\u001b[0;31mStopIteration\u001b[0m                             Traceback (most recent call last)",
      "\u001b[0;32m<ipython-input-108-d6a2d448410b>\u001b[0m in \u001b[0;36m<module>\u001b[0;34m()\u001b[0m\n\u001b[1;32m      1\u001b[0m \u001b[0mctrl_dir\u001b[0m \u001b[0;34m=\u001b[0m \u001b[0;34m'/g/data1/v14/coupled_model/'\u001b[0m\u001b[0;34m\u001b[0m\u001b[0m\n\u001b[1;32m      2\u001b[0m \u001b[0;34m\u001b[0m\u001b[0m\n\u001b[0;32m----> 3\u001b[0;31m \u001b[0mctrl_vers\u001b[0m \u001b[0;34m=\u001b[0m \u001b[0mnext\u001b[0m\u001b[0;34m(\u001b[0m\u001b[0mos\u001b[0m\u001b[0;34m.\u001b[0m\u001b[0mwalk\u001b[0m\u001b[0;34m(\u001b[0m\u001b[0mctrl_dir\u001b[0m\u001b[0;34m)\u001b[0m\u001b[0;34m)\u001b[0m\u001b[0;34m[\u001b[0m\u001b[0;36m1\u001b[0m\u001b[0;34m]\u001b[0m\u001b[0;34m\u001b[0m\u001b[0m\n\u001b[0m\u001b[1;32m      4\u001b[0m \u001b[0mprint\u001b[0m\u001b[0;34m(\u001b[0m\u001b[0mctrl_vers\u001b[0m\u001b[0;34m)\u001b[0m\u001b[0;34m\u001b[0m\u001b[0m\n\u001b[1;32m      5\u001b[0m \u001b[0mext\u001b[0m \u001b[0;34m=\u001b[0m \u001b[0;34m'/yr2008/mn4/OUTPUT.1/'\u001b[0m\u001b[0;34m\u001b[0m\u001b[0m\n",
      "\u001b[0;31mStopIteration\u001b[0m: "
     ]
    }
   ],
   "source": [
    "ctrl_dir = '/g/data1/v14/coupled_model/'\n",
    "\n",
    "ctrl_vers = next(os.walk(ctrl_dir))[1]\n",
    "print(ctrl_vers)\n",
    "ext = '/yr2008/mn4/OUTPUT.1/'\n",
    "\n",
    "for idx, ctrl_ver in enumerate(ctrl_vers):\n",
    "    path = ctrl_dir + ctrl_vers[idx] + ext\n",
    "    os.chdir(path)\n",
    "    files = glob.glob('*.nc')\n",
    "\n",
    "    # Find realms_frequencies available ----- \n",
    "    realm_freqs = list(set(['_'.join([i for i in file[0:-3].split(sep='_') if not i.isdigit()]) for file in files]))\n",
    "\n",
    "    # Fill dictionary -----\n",
    "    for realm_freq in realm_freqs:\n",
    "        # Load a single file starting with specified string -----\n",
    "        file = glob.glob(realm_freq + '*.nc')[0]\n",
    "        variables = list(netCDF4.Dataset(file).variables.keys())\n",
    "        var_dict['Control runs'][fcst_vers[idx]][realm_freq]['variables'][','.join(variables)]"
   ]
  },
  {
   "cell_type": "markdown",
   "metadata": {},
   "source": [
    "### Forecast runs"
   ]
  },
  {
   "cell_type": "code",
   "execution_count": 109,
   "metadata": {},
   "outputs": [
    {
     "ename": "StopIteration",
     "evalue": "",
     "output_type": "error",
     "traceback": [
      "\u001b[0;31m---------------------------------------------------------------------------\u001b[0m",
      "\u001b[0;31mStopIteration\u001b[0m                             Traceback (most recent call last)",
      "\u001b[0;32m<ipython-input-109-c76ca9645aee>\u001b[0m in \u001b[0;36m<module>\u001b[0;34m()\u001b[0m\n\u001b[1;32m      1\u001b[0m \u001b[0mfcst_dir\u001b[0m \u001b[0;34m=\u001b[0m \u001b[0;34m'/g/data1/v14/forecast/'\u001b[0m\u001b[0;34m\u001b[0m\u001b[0m\n\u001b[1;32m      2\u001b[0m \u001b[0;34m\u001b[0m\u001b[0m\n\u001b[0;32m----> 3\u001b[0;31m \u001b[0mfcst_vers\u001b[0m \u001b[0;34m=\u001b[0m \u001b[0mnext\u001b[0m\u001b[0;34m(\u001b[0m\u001b[0mos\u001b[0m\u001b[0;34m.\u001b[0m\u001b[0mwalk\u001b[0m\u001b[0;34m(\u001b[0m\u001b[0mfcst_dir\u001b[0m\u001b[0;34m)\u001b[0m\u001b[0;34m)\u001b[0m\u001b[0;34m[\u001b[0m\u001b[0;36m1\u001b[0m\u001b[0;34m]\u001b[0m\u001b[0;34m\u001b[0m\u001b[0m\n\u001b[0m\u001b[1;32m      4\u001b[0m \u001b[0mprint\u001b[0m\u001b[0;34m(\u001b[0m\u001b[0mfcst_vers\u001b[0m\u001b[0;34m)\u001b[0m\u001b[0;34m\u001b[0m\u001b[0m\n\u001b[1;32m      5\u001b[0m \u001b[0mext\u001b[0m \u001b[0;34m=\u001b[0m \u001b[0;34m'/yr2008/mn4/OUTPUT.1/'\u001b[0m\u001b[0;34m\u001b[0m\u001b[0m\n",
      "\u001b[0;31mStopIteration\u001b[0m: "
     ]
    }
   ],
   "source": [
    "fcst_dir = '/g/data1/v14/forecast/'\n",
    "\n",
    "fcst_vers = next(os.walk(fcst_dir))[1]\n",
    "print(fcst_vers)\n",
    "ext = '/yr2008/mn4/OUTPUT.1/'\n",
    "\n",
    "for idx, fcst_ver in enumerate(fcst_vers):\n",
    "    path = fcst_dir + fcst_vers[idx] + ext\n",
    "    os.chdir(path)\n",
    "    files = glob.glob('*.nc')\n",
    "\n",
    "    # Find realms_frequencies available ----- \n",
    "    realm_freqs = list(set(['_'.join([i for i in file[0:-3].split(sep='_') if not i.isdigit()]) for file in files]))\n",
    "\n",
    "    # Fill dictionary -----\n",
    "    for realm_freq in realm_freqs:\n",
    "        # Load a single file starting with specified string -----\n",
    "        file = glob.glob(realm_freq + '*.nc')[0]\n",
    "        variables = list(netCDF4.Dataset(file).variables.keys())\n",
    "        var_dict['Forecast runs'][fcst_vers[idx]][realm_freq]['variables'][','.join(variables)]"
   ]
  },
  {
   "cell_type": "markdown",
   "metadata": {},
   "source": [
    "### Build into pd.DataFrame"
   ]
  },
  {
   "cell_type": "code",
   "execution_count": 107,
   "metadata": {},
   "outputs": [
    {
     "data": {
      "text/html": [
       "<div>\n",
       "<style scoped>\n",
       "    .dataframe tbody tr th:only-of-type {\n",
       "        vertical-align: middle;\n",
       "    }\n",
       "\n",
       "    .dataframe tbody tr th {\n",
       "        vertical-align: top;\n",
       "    }\n",
       "\n",
       "    .dataframe thead th {\n",
       "        text-align: right;\n",
       "    }\n",
       "</style>\n",
       "<table border=\"1\" class=\"dataframe\">\n",
       "  <thead>\n",
       "    <tr style=\"text-align: right;\">\n",
       "      <th></th>\n",
       "      <th></th>\n",
       "      <th></th>\n",
       "      <th>variables</th>\n",
       "    </tr>\n",
       "  </thead>\n",
       "  <tbody>\n",
       "    <tr>\n",
       "      <th rowspan=\"16\" valign=\"top\">Control runs</th>\n",
       "      <th rowspan=\"8\" valign=\"top\">v0</th>\n",
       "      <th>atmos_daily</th>\n",
       "      <td>{'lon,lonb,lat,latb,time,nv,phalf,pfull,lwflx,...</td>\n",
       "    </tr>\n",
       "    <tr>\n",
       "      <th>ice_daily</th>\n",
       "      <td>{'xt,xb,yt,yb,time,nv,EXT,FRAZIL,MI,average_T1...</td>\n",
       "    </tr>\n",
       "    <tr>\n",
       "      <th>ice_month</th>\n",
       "      <td>{'xt,xb,yt,yb,time,nv,ct,xv,yv,CELL_AREA,CN,EX...</td>\n",
       "    </tr>\n",
       "    <tr>\n",
       "      <th>land_daily</th>\n",
       "      <td>{'lon,lonb,lat,latb,time,nv,scalar_axis,zfull,...</td>\n",
       "    </tr>\n",
       "    <tr>\n",
       "      <th>ocean_daily</th>\n",
       "      <td>{'xt_ocean,yt_ocean,time,nv,xu_ocean,yu_ocean,...</td>\n",
       "    </tr>\n",
       "    <tr>\n",
       "      <th>ocean_force</th>\n",
       "      <td>{'xt_ocean,yt_ocean,time,nv,xu_ocean,yu_ocean,...</td>\n",
       "    </tr>\n",
       "    <tr>\n",
       "      <th>ocean_month</th>\n",
       "      <td>{'xt_ocean,yt_ocean,time,nv,xu_ocean,yu_ocean,...</td>\n",
       "    </tr>\n",
       "    <tr>\n",
       "      <th>ocean_scalar</th>\n",
       "      <td>{'scalar_axis,time,nv,total_ocean_river,total_...</td>\n",
       "    </tr>\n",
       "    <tr>\n",
       "      <th rowspan=\"8\" valign=\"top\">v1</th>\n",
       "      <th>atmos_daily</th>\n",
       "      <td>{'lon,lonb,lat,latb,time,nv,phalf,pfull,lwflx,...</td>\n",
       "    </tr>\n",
       "    <tr>\n",
       "      <th>ice_daily</th>\n",
       "      <td>{'xt,xb,yt,yb,time,nv,EXT,FRAZIL,MI,average_T1...</td>\n",
       "    </tr>\n",
       "    <tr>\n",
       "      <th>ice_month</th>\n",
       "      <td>{'xt,xb,yt,yb,time,nv,ct,xv,yv,CELL_AREA,CN,EX...</td>\n",
       "    </tr>\n",
       "    <tr>\n",
       "      <th>land_daily</th>\n",
       "      <td>{'lon,lonb,lat,latb,time,nv,scalar_axis,zfull,...</td>\n",
       "    </tr>\n",
       "    <tr>\n",
       "      <th>ocean_daily</th>\n",
       "      <td>{'xt_ocean,yt_ocean,time,nv,xu_ocean,yu_ocean,...</td>\n",
       "    </tr>\n",
       "    <tr>\n",
       "      <th>ocean_force</th>\n",
       "      <td>{'xt_ocean,yt_ocean,time,nv,xu_ocean,yu_ocean,...</td>\n",
       "    </tr>\n",
       "    <tr>\n",
       "      <th>ocean_month</th>\n",
       "      <td>{'xt_ocean,yt_ocean,time,nv,xu_ocean,yu_ocean,...</td>\n",
       "    </tr>\n",
       "    <tr>\n",
       "      <th>ocean_scalar</th>\n",
       "      <td>{'scalar_axis,time,nv,total_ocean_river,total_...</td>\n",
       "    </tr>\n",
       "    <tr>\n",
       "      <th rowspan=\"8\" valign=\"top\">Forecast runs</th>\n",
       "      <th rowspan=\"8\" valign=\"top\">v1</th>\n",
       "      <th>atmos_daily</th>\n",
       "      <td>{'lon,lonb,lat,latb,time,nv,phalf,pfull,lwflx,...</td>\n",
       "    </tr>\n",
       "    <tr>\n",
       "      <th>ice_daily</th>\n",
       "      <td>{'xt,xb,yt,yb,time,nv,EXT,FRAZIL,MI,average_T1...</td>\n",
       "    </tr>\n",
       "    <tr>\n",
       "      <th>ice_month</th>\n",
       "      <td>{'xt,xb,yt,yb,time,nv,ct,xv,yv,CELL_AREA,CN,EX...</td>\n",
       "    </tr>\n",
       "    <tr>\n",
       "      <th>land_daily</th>\n",
       "      <td>{'lon,lonb,lat,latb,time,nv,scalar_axis,zfull,...</td>\n",
       "    </tr>\n",
       "    <tr>\n",
       "      <th>ocean_daily</th>\n",
       "      <td>{'xt_ocean,yt_ocean,time,nv,xu_ocean,yu_ocean,...</td>\n",
       "    </tr>\n",
       "    <tr>\n",
       "      <th>ocean_force</th>\n",
       "      <td>{'xt_ocean,yt_ocean,time,nv,xu_ocean,yu_ocean,...</td>\n",
       "    </tr>\n",
       "    <tr>\n",
       "      <th>ocean_month</th>\n",
       "      <td>{'xt_ocean,yt_ocean,time,nv,xu_ocean,yu_ocean,...</td>\n",
       "    </tr>\n",
       "    <tr>\n",
       "      <th>ocean_scalar</th>\n",
       "      <td>{'scalar_axis,time,nv,total_ocean_river,total_...</td>\n",
       "    </tr>\n",
       "  </tbody>\n",
       "</table>\n",
       "</div>"
      ],
      "text/plain": [
       "                                                                       variables\n",
       "Control runs  v0 atmos_daily   {'lon,lonb,lat,latb,time,nv,phalf,pfull,lwflx,...\n",
       "                 ice_daily     {'xt,xb,yt,yb,time,nv,EXT,FRAZIL,MI,average_T1...\n",
       "                 ice_month     {'xt,xb,yt,yb,time,nv,ct,xv,yv,CELL_AREA,CN,EX...\n",
       "                 land_daily    {'lon,lonb,lat,latb,time,nv,scalar_axis,zfull,...\n",
       "                 ocean_daily   {'xt_ocean,yt_ocean,time,nv,xu_ocean,yu_ocean,...\n",
       "                 ocean_force   {'xt_ocean,yt_ocean,time,nv,xu_ocean,yu_ocean,...\n",
       "                 ocean_month   {'xt_ocean,yt_ocean,time,nv,xu_ocean,yu_ocean,...\n",
       "                 ocean_scalar  {'scalar_axis,time,nv,total_ocean_river,total_...\n",
       "              v1 atmos_daily   {'lon,lonb,lat,latb,time,nv,phalf,pfull,lwflx,...\n",
       "                 ice_daily     {'xt,xb,yt,yb,time,nv,EXT,FRAZIL,MI,average_T1...\n",
       "                 ice_month     {'xt,xb,yt,yb,time,nv,ct,xv,yv,CELL_AREA,CN,EX...\n",
       "                 land_daily    {'lon,lonb,lat,latb,time,nv,scalar_axis,zfull,...\n",
       "                 ocean_daily   {'xt_ocean,yt_ocean,time,nv,xu_ocean,yu_ocean,...\n",
       "                 ocean_force   {'xt_ocean,yt_ocean,time,nv,xu_ocean,yu_ocean,...\n",
       "                 ocean_month   {'xt_ocean,yt_ocean,time,nv,xu_ocean,yu_ocean,...\n",
       "                 ocean_scalar  {'scalar_axis,time,nv,total_ocean_river,total_...\n",
       "Forecast runs v1 atmos_daily   {'lon,lonb,lat,latb,time,nv,phalf,pfull,lwflx,...\n",
       "                 ice_daily     {'xt,xb,yt,yb,time,nv,EXT,FRAZIL,MI,average_T1...\n",
       "                 ice_month     {'xt,xb,yt,yb,time,nv,ct,xv,yv,CELL_AREA,CN,EX...\n",
       "                 land_daily    {'lon,lonb,lat,latb,time,nv,scalar_axis,zfull,...\n",
       "                 ocean_daily   {'xt_ocean,yt_ocean,time,nv,xu_ocean,yu_ocean,...\n",
       "                 ocean_force   {'xt_ocean,yt_ocean,time,nv,xu_ocean,yu_ocean,...\n",
       "                 ocean_month   {'xt_ocean,yt_ocean,time,nv,xu_ocean,yu_ocean,...\n",
       "                 ocean_scalar  {'scalar_axis,time,nv,total_ocean_river,total_..."
      ]
     },
     "execution_count": 107,
     "metadata": {},
     "output_type": "execute_result"
    }
   ],
   "source": [
    "pd.DataFrame.from_dict({(i,j,k): var_dict[i][j][k]\n",
    "                           for i in var_dict.keys() \n",
    "                           for j in var_dict[i].keys()\n",
    "                           for k in var_dict[i][j].keys()},\n",
    "                       orient='index')"
   ]
  },
  {
   "cell_type": "code",
   "execution_count": null,
   "metadata": {},
   "outputs": [],
   "source": []
  }
 ],
 "metadata": {
  "kernelspec": {
   "display_name": "Python [conda env:pylatte_env]",
   "language": "python",
   "name": "conda-env-pylatte_env-py"
  },
  "language_info": {
   "codemirror_mode": {
    "name": "ipython",
    "version": 3
   },
   "file_extension": ".py",
   "mimetype": "text/x-python",
   "name": "python",
   "nbconvert_exporter": "python",
   "pygments_lexer": "ipython3",
   "version": "3.6.4"
  }
 },
 "nbformat": 4,
 "nbformat_minor": 2
}
