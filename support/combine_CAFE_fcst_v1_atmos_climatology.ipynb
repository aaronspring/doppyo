{
 "cells": [
  {
   "cell_type": "markdown",
   "metadata": {},
   "source": [
    "# This notebook combines yearly CAFE v1 atmos daily climatologies in a single dataset"
   ]
  },
  {
   "cell_type": "code",
   "execution_count": 1,
   "metadata": {
    "ExecuteTime": {
     "end_time": "2018-05-03T06:19:02.280414Z",
     "start_time": "2018-05-03T06:18:57.960393Z"
    }
   },
   "outputs": [],
   "source": [
    "import pandas as pd\n",
    "import xarray as xr\n",
    "import numpy as np\n",
    "from pylatte import utils\n",
    "from ipywidgets import FloatProgress"
   ]
  },
  {
   "cell_type": "code",
   "execution_count": 2,
   "metadata": {
    "ExecuteTime": {
     "end_time": "2018-05-03T06:20:50.019497Z",
     "start_time": "2018-05-03T06:20:50.011785Z"
    }
   },
   "outputs": [],
   "source": [
    "# variables = ['lwf',   'shf',   'tau_x', 'tau_y', 't_ref', 'q_ref', 'u_ref', 'v_ref', 't_ref_min',\n",
    "#              't_ref_max', 't_s',    'p_s', 'slp', 'h500', 'precip', 'lwf_dn_s', 'lwf_up_s', 'olwr', \n",
    "#              'swf_dn_s', 'swf_up_s', 'swf_up_toa', 'high_cld_amt', 'low_cld_amt', 'mid_cld_amt', 'tot_cld_amt']\n",
    "variables = ['lwf',   'shf',   'tau_x', 'tau_y', 't_ref', 'q_ref', 'u_ref', 'v_ref', 'slp', 'h500']\n",
    "variables = ['precip']\n",
    "years = range(2003,2016)"
   ]
  },
  {
   "cell_type": "code",
   "execution_count": 13,
   "metadata": {
    "ExecuteTime": {
     "end_time": "2018-05-03T06:24:08.546812Z",
     "start_time": "2018-05-03T06:24:08.238780Z"
    }
   },
   "outputs": [],
   "source": [
    "var_list = []\n",
    "for idx, variable in enumerate(variables):\n",
    "    yr_list = []\n",
    "    for year in years:\n",
    "        fldrname = 'cafe.fcst.v1.atmos.' + str(variable) + '.' + str(year) + '.clim.nc'\n",
    "        yr_list.append('/OSM/CBR/OA_DCFP/data/intermediate_products/pylatte_climatologies/' + fldrname)\n",
    "    \n",
    "    var_list.append(xr.open_mfdataset(yr_list,concat_dim='year').mean(dim='year'))"
   ]
  },
  {
   "cell_type": "code",
   "execution_count": 25,
   "metadata": {},
   "outputs": [],
   "source": [
    "savename = 'cafe.fcst.v1.atmos_daily.1lev.2003010112_2021063012.clim.nc'\n",
    "xr.merge(var_list).to_netcdf(path='/OSM/CBR/OA_DCFP/data/intermediate_products/pylatte_climatologies/' + savename,\n",
    "                                  mode = 'w') "
   ]
  }
 ],
 "metadata": {
  "kernelspec": {
   "display_name": "Python [conda env:pylatte_env]",
   "language": "python",
   "name": "conda-env-pylatte_env-py"
  },
  "language_info": {
   "codemirror_mode": {
    "name": "ipython",
    "version": 3
   },
   "file_extension": ".py",
   "mimetype": "text/x-python",
   "name": "python",
   "nbconvert_exporter": "python",
   "pygments_lexer": "ipython3",
   "version": "3.6.4"
  }
 },
 "nbformat": 4,
 "nbformat_minor": 2
}
