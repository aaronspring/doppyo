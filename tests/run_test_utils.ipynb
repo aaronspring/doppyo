{
 "cells": [
  {
   "cell_type": "code",
   "execution_count": 15,
   "metadata": {},
   "outputs": [],
   "source": [
    "from pyLatte import utils\n",
    "import numpy as np\n",
    "import xarray as xr"
   ]
  },
  {
   "cell_type": "code",
   "execution_count": 16,
   "metadata": {},
   "outputs": [],
   "source": [
    "def test_categorize():\n",
    "    tile = np.linspace(1,100,100)\n",
    "    da_data = np.tile(tile,(100,1))\n",
    "    da = xr.DataArray(da_data, coords =[tile, tile], dims=['dim1','dim2'])\n",
    "\n",
    "    bin_edges = utils.get_bin_edges(tile)\n",
    "    assert np.all(utils.categorize(da,bin_edges) == da)\n"
   ]
  },
  {
   "cell_type": "code",
   "execution_count": 17,
   "metadata": {},
   "outputs": [
    {
     "name": "stdout",
     "output_type": "stream",
     "text": [
      "\u001b[1m============================= test session starts ==============================\u001b[0m\n",
      "platform linux -- Python 3.6.4, pytest-3.3.2, py-1.5.2, pluggy-0.6.0\n",
      "rootdir: /OSM/CBR/OA_DCFP/work/squ027/pyLatte/tests, inifile:\n",
      "collected 1 item                                                               \u001b[0m\u001b[1m\n",
      "\n",
      "test_utils.py F\u001b[36m                                                          [100%]\u001b[0m\n",
      "\n",
      "=================================== FAILURES ===================================\n",
      "\u001b[31m\u001b[1m_______________________________ test_categorize ________________________________\u001b[0m\n",
      "\n",
      "\u001b[1m    def test_categorize():\u001b[0m\n",
      "\u001b[1m>       tile = np.linspace(1,100,100)\u001b[0m\n",
      "\u001b[1m\u001b[31mE       NameError: name 'np' is not defined\u001b[0m\n",
      "\n",
      "\u001b[1m\u001b[31mtest_utils.py\u001b[0m:12: NameError\n",
      "\u001b[31m\u001b[1m=========================== 1 failed in 0.24 seconds ===========================\u001b[0m\n"
     ]
    }
   ],
   "source": [
    "!pytest test_utils.py"
   ]
  },
  {
   "cell_type": "code",
   "execution_count": null,
   "metadata": {},
   "outputs": [],
   "source": []
  }
 ],
 "metadata": {
  "kernelspec": {
   "display_name": "Python [conda env:dts3_env]",
   "language": "python",
   "name": "conda-env-dts3_env-py"
  },
  "language_info": {
   "codemirror_mode": {
    "name": "ipython",
    "version": 3
   },
   "file_extension": ".py",
   "mimetype": "text/x-python",
   "name": "python",
   "nbconvert_exporter": "python",
   "pygments_lexer": "ipython3",
   "version": "3.6.4"
  }
 },
 "nbformat": 4,
 "nbformat_minor": 2
}
