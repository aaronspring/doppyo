{
 "cells": [
  {
   "cell_type": "code",
   "execution_count": 25,
   "metadata": {},
   "outputs": [],
   "source": [
    "from pyLatte import utils\n",
    "import numpy as np\n",
    "import xarray as xr"
   ]
  },
  {
   "cell_type": "code",
   "execution_count": 6,
   "metadata": {},
   "outputs": [],
   "source": [
    "def test_categorize():\n",
    "    tile = np.linspace(1,100,100)\n",
    "    da_data = np.tile(tile,(100,1))\n",
    "    da = xr.DataArray(da_data, coords =[tile, tile], dims=['dim1','dim2'])\n",
    "    \n",
    "    "
   ]
  },
  {
   "cell_type": "code",
   "execution_count": null,
   "metadata": {},
   "outputs": [],
   "source": [
    "tile = np.linspace(1,100,100)\n",
    "da_data = np.tile(tile,(100,1))\n",
    "da = xr.DataArray(da_data, coords =[tile, tile], dims=['dim1','dim2'])\n",
    "\n",
    "bins = tile[1::2]\n",
    "dbin = np.diff(bins)/2\n",
    "bin_edges = np.concatenate(([bins[0]-dbin[0]], \n",
    "                             bins[:-1]+dbin, \n",
    "                             [bins[-1]+dbin[-1]]))"
   ]
  },
  {
   "cell_type": "code",
   "execution_count": 38,
   "metadata": {},
   "outputs": [
    {
     "name": "stdout",
     "output_type": "stream",
     "text": [
      "[  1.   3.   5.   7.   9.  11.  13.  15.  17.  19.  21.  23.  25.  27.  29.\n",
      "  31.  33.  35.  37.  39.  41.  43.  45.  47.  49.  51.  53.  55.  57.  59.\n",
      "  61.  63.  65.  67.  69.  71.  73.  75.  77.  79.  81.  83.  85.  87.  89.\n",
      "  91.  93.  95.  97.  99.]\n"
     ]
    },
    {
     "name": "stderr",
     "output_type": "stream",
     "text": [
      "/OSM/CBR/OA_DCFP/work/squ027/pyLatte/utils.py:29: FutureWarning: the order of the arguments on DataArray.to_dataset has changed; you now need to supply ``name`` as a keyword argument\n",
      "  return da.to_dataset('categorized').apply(np.digitize,bins=bin_edges)['categorized']\n"
     ]
    },
    {
     "data": {
      "text/plain": [
       "<xarray.DataArray 'categorized' (dim1: 100, dim2: 100)>\n",
       "array([[ 1,  2,  2, ..., 50, 50, 51],\n",
       "       [ 1,  2,  2, ..., 50, 50, 51],\n",
       "       [ 1,  2,  2, ..., 50, 50, 51],\n",
       "       ..., \n",
       "       [ 1,  2,  2, ..., 50, 50, 51],\n",
       "       [ 1,  2,  2, ..., 50, 50, 51],\n",
       "       [ 1,  2,  2, ..., 50, 50, 51]])\n",
       "Coordinates:\n",
       "  * dim1     (dim1) float64 1.0 2.0 3.0 4.0 5.0 6.0 7.0 8.0 9.0 10.0 11.0 ...\n",
       "  * dim2     (dim2) float64 1.0 2.0 3.0 4.0 5.0 6.0 7.0 8.0 9.0 10.0 11.0 ..."
      ]
     },
     "execution_count": 38,
     "metadata": {},
     "output_type": "execute_result"
    }
   ],
   "source": [
    "print(bins)\n",
    "utils.categorize(da,bin_edges)"
   ]
  },
  {
   "cell_type": "code",
   "execution_count": 37,
   "metadata": {},
   "outputs": [
    {
     "data": {
      "text/plain": [
       "array([   0.,    2.,    4.,    6.,    8.,   10.,   12.,   14.,   16.,\n",
       "         18.,   20.,   22.,   24.,   26.,   28.,   30.,   32.,   34.,\n",
       "         36.,   38.,   40.,   42.,   44.,   46.,   48.,   50.,   52.,\n",
       "         54.,   56.,   58.,   60.,   62.,   64.,   66.,   68.,   70.,\n",
       "         72.,   74.,   76.,   78.,   80.,   82.,   84.,   86.,   88.,\n",
       "         90.,   92.,   94.,   96.,   98.,  100.])"
      ]
     },
     "execution_count": 37,
     "metadata": {},
     "output_type": "execute_result"
    }
   ],
   "source": [
    "bin_edges"
   ]
  },
  {
   "cell_type": "code",
   "execution_count": null,
   "metadata": {},
   "outputs": [],
   "source": []
  }
 ],
 "metadata": {
  "kernelspec": {
   "display_name": "Python [conda env:dts3_env]",
   "language": "python",
   "name": "conda-env-dts3_env-py"
  },
  "language_info": {
   "codemirror_mode": {
    "name": "ipython",
    "version": 3
   },
   "file_extension": ".py",
   "mimetype": "text/x-python",
   "name": "python",
   "nbconvert_exporter": "python",
   "pygments_lexer": "ipython3",
   "version": "3.6.4"
  }
 },
 "nbformat": 4,
 "nbformat_minor": 2
}
