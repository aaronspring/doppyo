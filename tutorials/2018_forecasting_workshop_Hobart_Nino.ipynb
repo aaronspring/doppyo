{
 "cells": [
  {
   "cell_type": "markdown",
   "metadata": {},
   "source": [
    "#### Import pyLatte package"
   ]
  },
  {
   "cell_type": "code",
   "execution_count": 1,
   "metadata": {},
   "outputs": [],
   "source": [
    "from pylatte import utils\n",
    "from pylatte import skill\n",
    "from pylatte import indices"
   ]
  },
  {
   "cell_type": "markdown",
   "metadata": {},
   "source": [
    "#### Currently, the following packages are required to load the data - this process will be replaced by the CAFE cookbook"
   ]
  },
  {
   "cell_type": "code",
   "execution_count": 2,
   "metadata": {},
   "outputs": [],
   "source": [
    "import numpy as np\n",
    "import pandas as pd\n",
    "import xarray as xr\n",
    "import glob"
   ]
  },
  {
   "cell_type": "markdown",
   "metadata": {},
   "source": [
    "#### Import some plotting packages and widgets"
   ]
  },
  {
   "cell_type": "code",
   "execution_count": 3,
   "metadata": {},
   "outputs": [],
   "source": [
    "import matplotlib.pyplot as plt\n",
    "from mpl_toolkits.axes_grid1 import make_axes_locatable\n",
    "\n",
    "import warnings    \n",
    "warnings.filterwarnings(\"ignore\")\n",
    "\n",
    "# Jupyter specific -----\n",
    "from ipywidgets import FloatProgress\n",
    "%matplotlib inline"
   ]
  },
  {
   "cell_type": "markdown",
   "metadata": {},
   "source": [
    "# A note about the methodology of pyLatte\n",
    "The pyLatte package is constructed around the xarray Python package. This is particularly useful for verification computations which require large numbers of samples (different model runs) to converge. \n",
    "\n",
    "The approach here is to generate very large xarray objects that reference all data required for the verification, but do not store the data in memory. Operations are performed on these xarray objects out-of-memory. When it is necessary to perform a compute (e.g. to produce a plot), this is distributed over multiple processors using the dask Python package."
   ]
  },
  {
   "cell_type": "markdown",
   "metadata": {},
   "source": [
    "# Initialise dask (currently not working on vm31)"
   ]
  },
  {
   "cell_type": "code",
   "execution_count": 4,
   "metadata": {},
   "outputs": [],
   "source": [
    "# import dask\n",
    "# import distributed\n",
    "# client = distributed.Client(local_dir='/tmp/squ027-dask-worker-space', n_workers=4, ip='*')\n",
    "# client"
   ]
  },
  {
   "cell_type": "markdown",
   "metadata": {},
   "source": [
    "# Construct xarray objects for forecasts and observations\n",
    "(The CAFE cookbook will replace these code blocks)"
   ]
  },
  {
   "cell_type": "code",
   "execution_count": 5,
   "metadata": {},
   "outputs": [],
   "source": [
    "# Location of forecast data -----\n",
    "fcst_folder = '/OSM/CBR/OA_DCFP/data/model_output/CAFE/forecasts/v1/'\n",
    "fcst_filename = 'ocean_daily*'\n",
    "fcst_variable = 'sst'\n",
    "\n",
    "# Location of observation data -----\n",
    "obsv_folder = '/OSM/CBR/OA_DCFP/data/observations/sst/'\n",
    "obsv_filename = 'HadISST_sst.nc'\n",
    "obsv_variable = 'sst'"
   ]
  },
  {
   "cell_type": "code",
   "execution_count": 6,
   "metadata": {},
   "outputs": [],
   "source": [
    "# Initial dates to include (takes approximately 1 min 30 sec per date) -----\n",
    "init_dates = pd.date_range('2013-4','2016-4' , freq='1MS')\n",
    "\n",
    "# Ensembles to include -----\n",
    "ensembles = range(1,12)\n",
    "\n",
    "# Forecast length -----\n",
    "FCST_LENGTH = 2 # years"
   ]
  },
  {
   "cell_type": "code",
   "execution_count": 7,
   "metadata": {},
   "outputs": [],
   "source": [
    "# Resampling details -----\n",
    "resample_freq = 'MS'"
   ]
  },
  {
   "cell_type": "markdown",
   "metadata": {},
   "source": [
    "### Construct forecasts xarray object\n",
    "Note, dask has a known bug that manifests when trying to concatentate data containing timedelta64 arrays (see https://github.com/pydata/xarray/issues/1952 for further details). For example, try to concatenate the following two Datasets:\n",
    "\n",
    "`In : path = '/OSM/CBR/OA_DCFP/data/model_output/CAFE/forecasts/v1/yr2002/mn7/'`\n",
    "\n",
    "`In : ens5 = xr.open_mfdataset(path + 'OUTPUT.5/atmos_daily*.nc', autoclose=True)`\n",
    "\n",
    "`In : ens6 = xr.open_mfdataset(path + 'OUTPUT.6/atmos_daily*.nc', autoclose=True)`\n",
    "\n",
    "`In : xr.concat([ens5, ens6],'ensemble')`\n",
    "\n",
    "`Out : TypeError: invalid type promotion`\n",
    "\n",
    "The error here is actually caused by the variables `average_DT` and `time_bounds`, which are timedelta64 arrays. However, I still do not fully unstand the bug: concatenation of `ens4` and `ens5`, for example, works fine, even though `ens4` also contains the timedelta64 variables `average_DT` and `time_bounds`. Regardless, because of this bug, it is not possible currently to create an xarray Dataset object containing all model variables. Instead, only the variable of interest (i.e. `fcst_variable` and `obsv_variable`) are retained in the concatenated xarray object."
   ]
  },
  {
   "cell_type": "code",
   "execution_count": null,
   "metadata": {},
   "outputs": [
    {
     "data": {
      "application/vnd.jupyter.widget-view+json": {
       "model_id": "565ebabd10cf40afa0afba10ac20f844",
       "version_major": 2,
       "version_minor": 0
      },
      "text/html": [
       "<p>Failed to display Jupyter Widget of type <code>FloatProgress</code>.</p>\n",
       "<p>\n",
       "  If you're reading this message in the Jupyter Notebook or JupyterLab Notebook, it may mean\n",
       "  that the widgets JavaScript is still loading. If this message persists, it\n",
       "  likely means that the widgets JavaScript library is either not installed or\n",
       "  not enabled. See the <a href=\"https://ipywidgets.readthedocs.io/en/stable/user_install.html\">Jupyter\n",
       "  Widgets Documentation</a> for setup instructions.\n",
       "</p>\n",
       "<p>\n",
       "  If you're reading this message in another frontend (for example, a static\n",
       "  rendering on GitHub or <a href=\"https://nbviewer.jupyter.org/\">NBViewer</a>),\n",
       "  it may mean that your frontend doesn't currently support widgets.\n",
       "</p>\n"
      ],
      "text/plain": [
       "FloatProgress(value=0.0, description='Loading...', max=407.0)"
      ]
     },
     "metadata": {},
     "output_type": "display_data"
    }
   ],
   "source": [
    "# Instantiate progress bar -----\n",
    "f = FloatProgress(min=0, max=len(init_dates)*len(ensembles), description='Loading...') \n",
    "display(f)\n",
    "\n",
    "# Loop over initial dates -----\n",
    "fcst_list = []\n",
    "for init_date in init_dates:\n",
    "    year = init_date.year\n",
    "    month = init_date.month\n",
    "    \n",
    "    # Loop over ensembles -----\n",
    "    ens_list = []\n",
    "    for ensemble in ensembles:\n",
    "        # Signal to increment the progress bar -----\n",
    "        f.value += 1 \n",
    "        \n",
    "        \n",
    "        path = fcst_folder + '/yr' + str(year) + '/mn' + str(month) + \\\n",
    "               '/OUTPUT.' + str(ensemble) + '/' + fcst_filename + '.nc'\n",
    "            \n",
    "        # xr.open_mfdataset() is slow - manually concatenate in time -----\n",
    "        files = glob.glob(path)\n",
    "        datasets = []\n",
    "        for file in files:\n",
    "            dataset = xr.open_dataset(file, autoclose=True)[fcst_variable]\n",
    "            datasets.append(dataset)\n",
    "        dataset = xr.concat(datasets, dim='time', coords='all').sortby('time')\n",
    "        \n",
    "        # Stack ensembles into a list -----\n",
    "        ens_list.append(dataset.resample(time=resample_freq) \\\n",
    "                               .mean(dim='time'))\n",
    "        \n",
    "    # Concatenate ensembles -----\n",
    "    ens_object = xr.concat(ens_list, dim='ensemble')\n",
    "    ens_object['ensemble'] = ensembles\n",
    "    \n",
    "    # Stack concatenated ensembles into a list for each initial date -----                       \n",
    "    fcst_list.append(utils.datetime_to_leadtime(ens_object))\n",
    "\n",
    "# Keep track of the lead time for each initialization -----\n",
    "n_lead_time = [len(x.lead_time) for x in fcst_list]\n",
    "\n",
    "# Concatenate initial dates -----\n",
    "da_fcst = xr.concat(fcst_list, dim='init_date')\n",
    "\n",
    "# Rechunk for chunksizes of at least 1,000,000 elements -----\n",
    "da_fcst = utils.prune(da_fcst.chunk(chunks={'ensemble' : len(da_fcst.ensemble), \n",
    "                                            'lead_time' : len(da_fcst.lead_time)}).squeeze())"
   ]
  },
  {
   "cell_type": "markdown",
   "metadata": {},
   "source": [
    "#### Truncate the forecast lead times at 2 years\n",
    "The January and July forecasts are run for 5 years rather than 2 years. The xarray concatenation above can deal with this, but fills the shorter forecasts with nans for lead times longer than 2 years. Let's get rid of some of these nans by truncating the forecasts at the lead time corresponding to the longest 2 year forecast."
   ]
  },
  {
   "cell_type": "code",
   "execution_count": null,
   "metadata": {},
   "outputs": [],
   "source": [
    "max_increments = FCST_LENGTH * 12\n",
    "n_trunc = max([i for i in n_lead_time if i <= max_increments])\n",
    "da_fcst = da_fcst.isel(lead_time=range(n_trunc))"
   ]
  },
  {
   "cell_type": "markdown",
   "metadata": {},
   "source": [
    "### Construct observations xarray object"
   ]
  },
  {
   "cell_type": "code",
   "execution_count": null,
   "metadata": {},
   "outputs": [],
   "source": [
    "# Instantiate progress bar -----\n",
    "f = FloatProgress(min=0, max=1, description='Loading...') \n",
    "display(f)\n",
    "\n",
    "# Dates are referenced to 0000-01-01 - xr.open_mfdataset cannot deal with this -----\n",
    "year_shift = 1970 \n",
    "dataset = xr.open_dataset(obsv_folder + obsv_filename, autoclose=True)[obsv_variable] \\\n",
    "            .rename({'latitude':'lat','longitude':'lon'})\n",
    "# time_units = 'days since ' + str(year_shift) + '-01-01'\n",
    "\n",
    "# decoded_time = xr.coding.times.decode_cf_datetime(dataset.time,time_units)\n",
    "# shifted_time = np.array([np.datetime64(time - relativedelta(years=year_shift)).astype('datetime64[ns]') \n",
    "#                          for time in decoded_time])\n",
    "# dataset.coords['time'] = ('time', shifted_time, {'long_name' : 'time', 'decoded_using' : time_units })\n",
    "\n",
    "# Resample to monthly frequency -----\n",
    "da_obsv_raw = dataset.resample(time=resample_freq).mean(dim='time')\n",
    "\n",
    "# Stack by initial date to match forecast structure -----\n",
    "da_obsv = utils.stack_by_init_date(da_obsv_raw,da_fcst.init_date.values,n_trunc)\n",
    "f.value += 1\n",
    "\n",
    "# Rechunk for chunksizes of at least 1,000,000 elements -----\n",
    "da_obsv = utils.prune(da_obsv.chunk(chunks={'init_date' : len(da_obsv.init_date)}).squeeze())"
   ]
  },
  {
   "cell_type": "markdown",
   "metadata": {},
   "source": [
    "# SOI"
   ]
  },
  {
   "cell_type": "code",
   "execution_count": null,
   "metadata": {},
   "outputs": [],
   "source": [
    "import importlib\n",
    "skill = importlib.reload(skill)"
   ]
  },
  {
   "cell_type": "markdown",
   "metadata": {},
   "source": [
    "### Observations\n",
    "#### Get appropriate years"
   ]
  },
  {
   "cell_type": "code",
   "execution_count": null,
   "metadata": {},
   "outputs": [],
   "source": [
    "da_obsv_raw = da_obsv_raw.isel(time=range(663,708))"
   ]
  },
  {
   "cell_type": "markdown",
   "metadata": {},
   "source": [
    "#### Load climatology"
   ]
  },
  {
   "cell_type": "code",
   "execution_count": null,
   "metadata": {},
   "outputs": [],
   "source": [
    "da_obsv_clim = utils.load_mean_climatology('jra_1958-2016', 'slp', freq='MS')"
   ]
  },
  {
   "cell_type": "markdown",
   "metadata": {},
   "source": [
    "#### Anomalize"
   ]
  },
  {
   "cell_type": "code",
   "execution_count": null,
   "metadata": {},
   "outputs": [],
   "source": [
    "da_obsv_raw_anom = utils.anomalize(da_obsv_raw, da_obsv_clim)"
   ]
  },
  {
   "cell_type": "code",
   "execution_count": null,
   "metadata": {},
   "outputs": [],
   "source": [
    "anomalize = lambda data, clim: utils.datetime_to_leadtime(\n",
    "                                   utils.anomalize(\n",
    "                                       utils.leadtime_to_datetime(data),clim))\n",
    "da_obsv_anom = da_obsv.groupby('init_date').apply(anomalize, clim=da_obsv_clim)"
   ]
  },
  {
   "cell_type": "markdown",
   "metadata": {},
   "source": [
    "#### Compute and smooth SOI"
   ]
  },
  {
   "cell_type": "code",
   "execution_count": null,
   "metadata": {},
   "outputs": [],
   "source": [
    "soi_obsv_raw = indices.compute_soi(da_obsv_raw_anom, std_dim='time') \\\n",
    "                      .rolling(time=3, min_periods=3) \\\n",
    "                      .mean(dim='time') \\\n",
    "                      .compute()\n",
    "            \n",
    "soi_obsv = indices.compute_soi(da_obsv_anom, std_dim='lead_time') \\\n",
    "                  .rolling(lead_time=3, min_periods=3) \\\n",
    "                  .mean(dim='lead_time') \\\n",
    "                  .compute()"
   ]
  },
  {
   "cell_type": "markdown",
   "metadata": {},
   "source": [
    "### Forecasts\n",
    "#### Load climatology"
   ]
  },
  {
   "cell_type": "code",
   "execution_count": null,
   "metadata": {},
   "outputs": [],
   "source": [
    "da_fcst_clim = utils.load_mean_climatology('cafe_fcst_v1_atmos_2003-2021', 'slp', freq='MS') * 100"
   ]
  },
  {
   "cell_type": "markdown",
   "metadata": {},
   "source": [
    "#### Anomalize"
   ]
  },
  {
   "cell_type": "code",
   "execution_count": null,
   "metadata": {},
   "outputs": [],
   "source": [
    "anomalize = lambda data, clim: utils.datetime_to_leadtime(\n",
    "                                   utils.anomalize(\n",
    "                                       utils.leadtime_to_datetime(data),clim))"
   ]
  },
  {
   "cell_type": "code",
   "execution_count": null,
   "metadata": {},
   "outputs": [],
   "source": [
    "da_fcst_anom = (100 * da_fcst).groupby('init_date').apply(anomalize, clim=da_fcst_clim)"
   ]
  },
  {
   "cell_type": "markdown",
   "metadata": {},
   "source": [
    "#### Compute and smooth SOI"
   ]
  },
  {
   "cell_type": "code",
   "execution_count": null,
   "metadata": {},
   "outputs": [],
   "source": [
    "soi_fcst = indices.compute_soi(da_fcst_anom, std_dim='lead_time') \\\n",
    "                  .rolling(lead_time=3, min_periods=3) \\\n",
    "                  .mean(dim='lead_time') \\\n",
    "                  .compute()"
   ]
  },
  {
   "cell_type": "markdown",
   "metadata": {},
   "source": [
    "### Forecasts at different lead times"
   ]
  },
  {
   "cell_type": "code",
   "execution_count": null,
   "metadata": {
    "scrolled": true
   },
   "outputs": [],
   "source": [
    "def plot_each(data,ax,col,lw,fade=False):\n",
    "    if 'ensemble' in data.dims:\n",
    "        # Plot ensembles\n",
    "        sp = utils.leadtime_to_datetime(data)\n",
    "        ax.plot(sp['time'],sp.transpose(),color=(0.9,0.9,0.9))\n",
    "        \n",
    "        ts = utils.leadtime_to_datetime(data).mean(dim='ensemble')\n",
    "    else:\n",
    "        ts = utils.leadtime_to_datetime(data)\n",
    "    x = ts['time'].values\n",
    "    y = ts.values\n",
    "    \n",
    "    # Your colouring array\n",
    "    if fade is True:\n",
    "        T = np.linspace(0.5,1,np.size(x))\n",
    "    else:\n",
    "        T = np.linspace(0,1,np.size(x))\n",
    "\n",
    "    # Segement plot and colour depending on T\n",
    "    s = 1 # Segment length\n",
    "    for i in range(0,len(x)-s,s):\n",
    "        if col == 'b':\n",
    "            ax.plot(x[i:i+s+1], y[i:i+s+1], color=(T[i],T[i],1), linewidth=lw)\n",
    "        elif col == 'k':\n",
    "            ax.plot(x[i:i+s+1], y[i:i+s+1], color=(T[i],T[i],T[i]), linewidth=lw)\n",
    "        elif col == 'r':\n",
    "            ax.plot(x[i:i+s+1], y[i:i+s+1], color=(1,T[i],T[i]), linewidth=lw)\n",
    "        elif col == 'g':\n",
    "            ax.plot(x[i:i+s+1], y[i:i+s+1], color=(T[i],1,T[i]), linewidth=lw)\n",
    "    return ts\n",
    "\n",
    "fig1 = plt.figure(figsize=(10,5))\n",
    "\n",
    "ax = fig1.add_axes([0.1, 0.1, 0.8, 0.8])\n",
    "ax.grid()\n",
    "\n",
    "lines = soi_obsv.sel(init_date=slice('2013-04', '2016-04')) \\\n",
    "                .groupby('init_date') \\\n",
    "                .apply(plot_each,ax=ax,col='r',lw=1,fade=True)\n",
    "ax.plot(soi_obsv_raw['time'],soi_obsv_raw,'r-',linewidth=3)\n",
    "\n",
    "lines = soi_fcst.sel(init_date='2015-11') \\\n",
    "                .groupby('init_date') \\\n",
    "                .apply(plot_each,ax=ax,col='b',lw=3)\n",
    "        \n",
    "ax.set_xlabel('date')\n",
    "ax.set_ylabel('SOI');"
   ]
  },
  {
   "cell_type": "markdown",
   "metadata": {},
   "source": [
    "### Skill at different lead times"
   ]
  },
  {
   "cell_type": "code",
   "execution_count": null,
   "metadata": {},
   "outputs": [],
   "source": [
    "corrcoef_fcst = skill.compute_Pearson_corrcoef(soi_fcst, soi_obsv, \n",
    "                                               over_dims=['lead_time'],subtract_local_mean=False) \\\n",
    "                                               .mean('ensemble')\n",
    "    \n",
    "rms_error = skill.compute_rms_error(soi_fcst, soi_obsv, over_dims=['ensemble','lead_time'])"
   ]
  },
  {
   "cell_type": "code",
   "execution_count": null,
   "metadata": {},
   "outputs": [],
   "source": [
    "fig1 = plt.figure(figsize=(10,5))\n",
    "\n",
    "ax1 = fig1.add_axes([0.1, 0.9, 0.8, 0.4])\n",
    "ax1.grid()\n",
    "\n",
    "ax1.plot(soi_obsv_raw['time'],soi_obsv_raw,'r-',linewidth=3)\n",
    "#ax1.set_xlabel('date')\n",
    "ax1.set_ylabel('SOI');\n",
    "ax1.set_xlim(left='2013-06',right='2016-04')\n",
    "\n",
    "ax2 = fig1.add_axes([0.1, 0.1, 0.8, 0.7])\n",
    "ax2.grid()\n",
    "ax2.plot(corrcoef_fcst['init_date'],corrcoef_fcst,'k-',linewidth=3)\n",
    "ax2.set_xlabel('date')\n",
    "ax2.set_xlim(left='2013-06',right='2016-04')\n",
    "\n",
    "ax2.plot(rms_error['init_date'],rms_error,'b-',linewidth=3)\n",
    "ax2.set_xlabel('date')\n",
    "ax2.set_xlim(left='2013-06',right='2016-04');\n",
    "\n",
    "ax2.legend();"
   ]
  },
  {
   "cell_type": "markdown",
   "metadata": {},
   "source": [
    "# Close dask client"
   ]
  },
  {
   "cell_type": "code",
   "execution_count": null,
   "metadata": {},
   "outputs": [],
   "source": [
    "# with utils.timer():\n",
    "#     client.close()"
   ]
  },
  {
   "cell_type": "code",
   "execution_count": null,
   "metadata": {},
   "outputs": [],
   "source": []
  }
 ],
 "metadata": {
  "kernelspec": {
   "display_name": "Python [conda env:dts3_env]",
   "language": "python",
   "name": "conda-env-dts3_env-py"
  },
  "language_info": {
   "codemirror_mode": {
    "name": "ipython",
    "version": 3
   },
   "file_extension": ".py",
   "mimetype": "text/x-python",
   "name": "python",
   "nbconvert_exporter": "python",
   "pygments_lexer": "ipython3",
   "version": "3.6.4"
  }
 },
 "nbformat": 4,
 "nbformat_minor": 2
}
