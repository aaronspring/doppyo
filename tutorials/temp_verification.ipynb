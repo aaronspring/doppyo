{
 "cells": [
  {
   "cell_type": "markdown",
   "metadata": {},
   "source": [
    "# Tutorial demonstrating verification of v1 1000hPa temp against jra55"
   ]
  },
  {
   "cell_type": "markdown",
   "metadata": {},
   "source": [
    "#### Import pyLatte package"
   ]
  },
  {
   "cell_type": "code",
   "execution_count": 3,
   "metadata": {},
   "outputs": [],
   "source": [
    "from pylatte import utils\n",
    "from pylatte import verif"
   ]
  },
  {
   "cell_type": "markdown",
   "metadata": {},
   "source": [
    "#### Currently, the following packages are required to load the data - this process will be replaced by the CAFE cookbook"
   ]
  },
  {
   "cell_type": "code",
   "execution_count": 4,
   "metadata": {},
   "outputs": [],
   "source": [
    "import numpy as np\n",
    "import pandas as pd\n",
    "import xarray as xr\n",
    "import matplotlib.pyplot as plt\n",
    "import warnings    \n",
    "warnings.filterwarnings(\"ignore\")\n",
    "\n",
    "# Jupyter specific -----\n",
    "%matplotlib inline"
   ]
  },
  {
   "cell_type": "markdown",
   "metadata": {},
   "source": [
    "#### The pyLatte package is constructed around the xarray Python package. This is particularly useful for verification computations which require large numbers of samples (different model runs) to converge. \n",
    "\n",
    "#### The approach here is to generate very large xarray objects that reference all data required for the verification, but do not store the data in memory. Operations are performed on these xarray objects out-of-memory. When it is necessary to perform a compute (e.g. to produce a plot), this is distributed over multiple processors using the dask Python package."
   ]
  },
  {
   "cell_type": "markdown",
   "metadata": {},
   "source": [
    "# Initialise dask (currently not working on vm31)"
   ]
  },
  {
   "cell_type": "code",
   "execution_count": 5,
   "metadata": {},
   "outputs": [],
   "source": [
    "# import dask\n",
    "# import distributed\n",
    "# client = distributed.Client(local_dir='/tmp/squ027-dask-worker-space', n_workers=4)\n",
    "# zclient"
   ]
  },
  {
   "cell_type": "markdown",
   "metadata": {},
   "source": [
    "# Construct xarray objects for forecasts and observations"
   ]
  },
  {
   "cell_type": "markdown",
   "metadata": {},
   "source": [
    "#### (The CAFE cookbook will replace these code blocks)"
   ]
  },
  {
   "cell_type": "code",
   "execution_count": 28,
   "metadata": {},
   "outputs": [],
   "source": [
    "# Resampling details -----\n",
    "resample_freq = '1MS' # Must be '1MS' for monthly\n",
    "resample_method = 'mean'\n",
    "\n",
    "# Location of forecast data -----\n",
    "fcst_folder = '/OSM/CBR/OA_DCFP/data/model_output/CAFE/forecasts/v1/'\n",
    "fcst_filename = 'atmos_daily*'\n",
    "\n",
    "# Location of observation data -----\n",
    "obsv_folder = '/OSM/CBR/OA_DCFP/data/observations/jra55/isobaric/011_tmp/cat/'\n",
    "obsv_filename = 'jra.55.tmp.1000.1958010100_2016123118.nc'"
   ]
  },
  {
   "cell_type": "code",
   "execution_count": 29,
   "metadata": {},
   "outputs": [],
   "source": [
    "# Initialization dates (takes approximately 1 min 30 sec per date) -----\n",
    "init_dates = pd.date_range('2/2002','3/2002' , freq='1MS')  # Must be '1MS' for monthly\n",
    "\n",
    "# Ensembles to include -----\n",
    "ensembles = range(1,12)\n",
    "\n",
    "# Forecast length -----\n",
    "FCST_LENGTH = 2 # years\n",
    "no_leap = 2001\n",
    "n_incr = len(pd.date_range('1/1/' + str(no_leap),\n",
    "                           '12/1/' + str(no_leap+FCST_LENGTH-1),\n",
    "                           freq=resample_freq)) # number of lead_time increments\n",
    "lead_times = range(1,n_incr+1)"
   ]
  },
  {
   "cell_type": "markdown",
   "metadata": {},
   "source": [
    "### Construct forecasts xarray object"
   ]
  },
  {
   "cell_type": "code",
   "execution_count": 30,
   "metadata": {},
   "outputs": [
    {
     "name": "stdout",
     "output_type": "stream",
     "text": [
      "Gathering data for forecast started on 2-2002...\n",
      "   Elapsed: 5.88490104675293 sec\n",
      "Gathering data for forecast started on 3-2002...\n",
      "   Elapsed: 5.954745769500732 sec\n"
     ]
    }
   ],
   "source": [
    "# import pdb, traceback, sys\n",
    "\n",
    "# ==================================================\n",
    "# Initialize xarray object for first init_date -----\n",
    "# ==================================================\n",
    "with utils.timer():\n",
    "    print(f'Gathering data for forecast started on {init_dates[0].month}-{init_dates[0].year}...')\n",
    "    \n",
    "    ds_fcst = xr.open_mfdataset(fcst_folder + \n",
    "                                '/yr' + str(init_dates[0].year) + \n",
    "                                '/mn' + str(init_dates[0].month) + \n",
    "                                '/OUTPUT.' + str(ensembles[0]) + \n",
    "                                '/' + fcst_filename, autoclose=True)\n",
    "    ds_fcst.coords['ensemble'] = ensembles[0]\n",
    "\n",
    "    for ensemble in ensembles[1:]:\n",
    "        ds_temp = xr.open_mfdataset(fcst_folder + \n",
    "                                    '/yr' + str(init_dates[0].year) + \n",
    "                                    '/mn' + str(init_dates[0].month) + \n",
    "                                    '/OUTPUT.' + str(ensemble) + \n",
    "                                    '/' + fcst_filename, autoclose=True)\n",
    "        # Concatenate along 'ensemble' dimension/coordinate -----\n",
    "        ds_temp.coords['ensemble'] = ensemble\n",
    "        ds_fcst = xr.concat([ds_fcst, ds_temp],'ensemble')\n",
    "\n",
    "    # Resample to desired frequency and resave time as lead time -----\n",
    "    ds_fcst = ds_fcst.resample(freq=resample_freq, dim='time', how=resample_method) \\\n",
    "                               .isel(time = range(len(lead_times)))\n",
    "    ds_fcst = ds_fcst.rename({'time' : 'lead_time'})\n",
    "    ds_fcst['lead_time'] = lead_times\n",
    "\n",
    "    # Initialize 'init_date' coordinate -----\n",
    "    ds_fcst.coords['init_date'] = init_dates[0]\n",
    "    ds_fcst = ds_fcst.expand_dims('init_date')\n",
    "    \n",
    "# ==============================================\n",
    "# Loop over remaining initialization dates -----\n",
    "# ==============================================\n",
    "for init_date in init_dates[1:]:\n",
    "    with utils.timer():\n",
    "        year = init_date.year\n",
    "        month = init_date.month\n",
    "        print(f'Gathering data for forecast started on {month}-{year}...')\n",
    "\n",
    "        # There is a bug in xarray that causes an 'invalid type promotion' sometimes when concatenating \n",
    "        # The following while loop provides a work-around \n",
    "        more_ensembles = True\n",
    "        first_chunk = True\n",
    "        current_ensemble = 1\n",
    "\n",
    "        while more_ensembles:\n",
    "            try:\n",
    "                # Initialize xarray object for first ensemble -----\n",
    "                ds_temp1 = xr.open_mfdataset(fcst_folder + \n",
    "                                             '/yr' + str(year) + \n",
    "                                             '/mn' + str(month) + \n",
    "                                             '/OUTPUT.' + str(ensembles[current_ensemble-1]) + \n",
    "                                             '/' + fcst_filename, autoclose=True)\n",
    "                ds_temp1.coords['ensemble'] = ensembles[current_ensemble-1]\n",
    "\n",
    "                for ensemble in ensembles[current_ensemble:]:\n",
    "                    ds_temp2 = xr.open_mfdataset(fcst_folder + \n",
    "                                                '/yr' + str(year) + \n",
    "                                                '/mn' + str(month) + \n",
    "                                                '/OUTPUT.' + str(ensemble) + \n",
    "                                                '/' + fcst_filename, autoclose=True)\n",
    "                    # Concatenate along 'ensemble' dimension/coordinate -----\n",
    "                    ds_temp2.coords['ensemble'] = ensemble\n",
    "                    ds_temp1 = xr.concat([ds_temp1, ds_temp2],'ensemble')\n",
    "\n",
    "                # try:\n",
    "                if first_chunk:\n",
    "                    ds_chunk = ds_temp1\n",
    "                else:\n",
    "                    ds_chunk = xr.concat([ds_chunk, ds_temp1],'ensemble')\n",
    "                # except:\n",
    "                #     type, value, tb = sys.exc_info()\n",
    "                #     traceback.print_exc()\n",
    "                #     pdb.post_mortem(tb)\n",
    "\n",
    "                more_ensembles = False\n",
    "            except TypeError:\n",
    "                if first_chunk:\n",
    "                    ds_chunk = ds_temp1\n",
    "                    first_chunk = False\n",
    "                else:\n",
    "                    ds_chunk = xr.concat([ds_chunk, ds_temp1],'ensemble')\n",
    "                current_ensemble = ensemble\n",
    "\n",
    "        # Resample to desired frequency and resave time as lead time -----\n",
    "        ds_chunk = ds_chunk.resample(freq=resample_freq, dim='time', how=resample_method) \\\n",
    "                           .isel(time = range(len(lead_times)))\n",
    "        ds_chunk = ds_chunk.rename({'time' : 'lead_time'})\n",
    "        ds_chunk['lead_time'] = lead_times\n",
    "\n",
    "        # Concaneate along 'init_date' dimension/coordinate -----\n",
    "        ds_chunk.coords['init_date'] = init_date\n",
    "        ds_fcst = xr.concat([ds_fcst, ds_chunk],'init_date')"
   ]
  },
  {
   "cell_type": "markdown",
   "metadata": {},
   "source": [
    "#### Rechunk"
   ]
  },
  {
   "cell_type": "code",
   "execution_count": 31,
   "metadata": {},
   "outputs": [
    {
     "name": "stdout",
     "output_type": "stream",
     "text": [
      "   Elapsed: 0.7967948913574219 sec\n"
     ]
    }
   ],
   "source": [
    "with utils.timer():\n",
    "    # Rechunk for chunksizes of at least 1,000,000 elements -----\n",
    "    ds_fcst = ds_fcst.chunk(chunks={'ensemble' : len(ensembles), 'lead_time' : len(lead_times)})\n",
    "\n",
    "    # Overwrite init_dates in case didn't fully load -----\n",
    "    init_dates = ds_fcst.init_date.values"
   ]
  },
  {
   "cell_type": "markdown",
   "metadata": {},
   "source": [
    "### Construct observations xarray object"
   ]
  },
  {
   "cell_type": "code",
   "execution_count": 32,
   "metadata": {},
   "outputs": [
    {
     "name": "stdout",
     "output_type": "stream",
     "text": [
      "Gathering data for observations...\n",
      "   Elapsed: 4.60844349861145 sec\n"
     ]
    }
   ],
   "source": [
    "# ===================================================\n",
    "# Only load years for which forecast data exist -----\n",
    "# ===================================================\n",
    "with utils.timer():\n",
    "    print(f'Gathering data for observations...')\n",
    "    \n",
    "    ds_temp1 = xr.open_mfdataset(obsv_folder + obsv_filename, autoclose=True)\n",
    "    \n",
    "    # Standardize naming -----\n",
    "    ds_temp1 = ds_temp1.rename({'initial_time0_hours':'time',\n",
    "                                      'g0_lon_3':'lon',\n",
    "                                      'g0_lat_2':'lat',\n",
    "                                      'TMP_GDS0_ISBL':'temp'})\n",
    "\n",
    "    # Resample to desired frequency -----\n",
    "    ds_temp1 = ds_temp1.resample(freq=resample_freq, dim='time', how=resample_method)\n",
    "    \n",
    "    # ===============================================\n",
    "    # Stack to resemble ds_forecast coordinates -----\n",
    "    # ===============================================\n",
    "    # Initialize xarray object for first lead_time -----\n",
    "    start_index = np.where(ds_temp1.time == np.datetime64(init_dates[0]))[0].item()\n",
    "    ds_obsv = ds_temp1.isel(time=range(start_index, start_index+len(lead_times)))\n",
    "    ds_obsv.coords['init_date'] = init_dates[0]\n",
    "    ds_obsv = ds_obsv.expand_dims('init_date')\n",
    "    ds_obsv = ds_obsv.rename({'time' : 'lead_time'})\n",
    "    ds_obsv['lead_time'] = lead_times\n",
    "    \n",
    "    # Loop over remaining lead_time -----\n",
    "    for init_date in init_dates[1:]:\n",
    "        start_index = np.where(ds_temp1.time == np.datetime64(init_date))[0].item()\n",
    "        ds_temp3 = ds_temp1.isel(time=range(start_index, start_index+len(lead_times)))\n",
    "\n",
    "        # Concatenate along 'lead_time' dimension/coordinate -----\n",
    "        ds_temp3 = ds_temp3.rename({'time' : 'lead_time'})\n",
    "        ds_temp3['lead_time'] = lead_times\n",
    "        ds_temp3.coords['init_date'] = init_date\n",
    "        ds_obsv = xr.concat([ds_obsv, ds_temp3],'init_date') "
   ]
  },
  {
   "cell_type": "markdown",
   "metadata": {},
   "source": [
    "#### Rechunk"
   ]
  },
  {
   "cell_type": "code",
   "execution_count": 33,
   "metadata": {
    "scrolled": true
   },
   "outputs": [
    {
     "name": "stdout",
     "output_type": "stream",
     "text": [
      "   Elapsed: 0.003927707672119141 sec\n"
     ]
    }
   ],
   "source": [
    "with utils.timer():\n",
    "    # Rechunk for chunksizes of at least 1,000,000 elements -----\n",
    "    ds_obsv = ds_obsv.chunk(chunks={'init_date' : len(init_dates)})"
   ]
  },
  {
   "cell_type": "code",
   "execution_count": 43,
   "metadata": {},
   "outputs": [
    {
     "data": {
      "text/plain": [
       "<xarray.DataArray 'temp' (init_date: 2, lead_time: 24, ensemble: 11, lat: 90, lon: 144)>\n",
       "dask.array<shape=(2, 24, 11, 90, 144), dtype=float64, chunksize=(1, 24, 11, 90, 144)>\n",
       "Coordinates:\n",
       "  * lead_time  (lead_time) int64 1 2 3 4 5 6 7 8 9 10 11 12 13 14 15 16 17 ...\n",
       "  * lon        (lon) float64 1.25 3.75 6.25 8.75 11.25 13.75 16.25 18.75 ...\n",
       "  * lat        (lat) float64 -89.49 -87.98 -85.96 -83.93 -81.91 -79.89 ...\n",
       "  * ensemble   (ensemble) int64 1 2 3 4 5 6 7 8 9 10 11\n",
       "  * init_date  (init_date) datetime64[ns] 2002-02-01 2002-03-01"
      ]
     },
     "execution_count": 43,
     "metadata": {},
     "output_type": "execute_result"
    }
   ],
   "source": [
    "ds_fcst['temp'].sel(pfull=1000,method='nearest',drop=True)"
   ]
  },
  {
   "cell_type": "code",
   "execution_count": 49,
   "metadata": {},
   "outputs": [
    {
     "data": {
      "text/plain": [
       "<xarray.DataArray 'temp' (init_date: 2, lead_time: 24, lat: 145, lon: 288)>\n",
       "dask.array<shape=(2, 24, 145, 288), dtype=float64, chunksize=(2, 1, 145, 288)>\n",
       "Coordinates:\n",
       "  * lead_time  (lead_time) int64 1 2 3 4 5 6 7 8 9 10 11 12 13 14 15 16 17 ...\n",
       "  * lon        (lon) float32 0.0 1.25 2.5 3.75 5.0 6.25 7.5 8.75 10.0 11.25 ...\n",
       "  * lat        (lat) float32 90.0 88.75 87.5 86.25 85.0 83.75 82.5 81.25 ...\n",
       "  * init_date  (init_date) datetime64[ns] 2002-02-01 2002-03-01"
      ]
     },
     "execution_count": 49,
     "metadata": {},
     "output_type": "execute_result"
    }
   ],
   "source": [
    "ds_obsv['temp'].squeeze().drop('lv_ISBL1')"
   ]
  },
  {
   "cell_type": "markdown",
   "metadata": {},
   "source": [
    "# Methods for probabilistic forecasts"
   ]
  },
  {
   "cell_type": "markdown",
   "metadata": {},
   "source": [
    "## Rank histogram"
   ]
  },
  {
   "cell_type": "markdown",
   "metadata": {},
   "source": [
    "#### E.g. for temperature at 1000hPa averaged over Australia"
   ]
  },
  {
   "cell_type": "code",
   "execution_count": 50,
   "metadata": {},
   "outputs": [
    {
     "name": "stdout",
     "output_type": "stream",
     "text": [
      "   Elapsed: 189.47670698165894 sec\n"
     ]
    }
   ],
   "source": [
    "with utils.timer():\n",
    "    # Region of interest -----\n",
    "    region = (-38.0, -11.0, 113.0 , 153.0) # (lat_min,lat_max,lon_min,lon_max)\n",
    "\n",
    "    da_fcst = utils.calc_boxavg_latlon(ds_fcst['temp'].sel(pfull=1000,method='nearest',drop=True), region).compute()\n",
    "    da_obsv = utils.calc_boxavg_latlon(ds_obsv['temp'].squeeze().drop('lv_ISBL1'), region).compute()"
   ]
  },
  {
   "cell_type": "markdown",
   "metadata": {},
   "source": [
    "#### Rank the data and compute histograms as a function of lead time"
   ]
  },
  {
   "cell_type": "code",
   "execution_count": 51,
   "metadata": {},
   "outputs": [
    {
     "name": "stdout",
     "output_type": "stream",
     "text": [
      "   Elapsed: 0.05634307861328125 sec\n"
     ]
    }
   ],
   "source": [
    "with utils.timer():\n",
    "    rank_histogram = verif.compute_rank_histogram(da_fcst, da_obsv, indep_dims='init_date')"
   ]
  },
  {
   "cell_type": "code",
   "execution_count": 52,
   "metadata": {
    "collapsed": true
   },
   "outputs": [
    {
     "name": "stdout",
     "output_type": "stream",
     "text": [
      "   Elapsed: 1.0230159759521484 sec\n"
     ]
    },
    {
     "data": {
      "image/png": "[encoded data removed]",
      "text/plain": [
       "<Figure size 1080x1080 with 24 Axes>"
      ]
     },
     "metadata": {},
     "output_type": "display_data"
    }
   ],
   "source": [
    "with utils.timer():\n",
    "    ncol = 4; nrow = int(np.ceil(len(lead_times)/ncol));\n",
    "    fig, axs = plt.subplots(figsize=(15,15), nrows=nrow, ncols=ncol);\n",
    "\n",
    "    for idx,ax in enumerate(axs.reshape(-1)): \n",
    "        ax.grid()\n",
    "        ax.bar(rank_histogram.bins,rank_histogram.isel(lead_time=idx, drop=True))\n",
    "        ax.set_ylim(0,rank_histogram.max())\n",
    "        ax.text(10.3,0.85*rank_histogram.max(),'mn '+str(idx+1))\n",
    "\n",
    "        if idx % ncol == 0:\n",
    "            ax.set_ylabel('count')\n",
    "\n",
    "        if idx / ncol >= nrow - 1:\n",
    "            ax.set_xlabel('bins')"
   ]
  },
  {
   "cell_type": "markdown",
   "metadata": {},
   "source": [
    "#### Rank the data and compute histograms for all lead times"
   ]
  },
  {
   "cell_type": "code",
   "execution_count": 54,
   "metadata": {},
   "outputs": [
    {
     "name": "stdout",
     "output_type": "stream",
     "text": [
      "   Elapsed: 0.008453845977783203 sec\n"
     ]
    }
   ],
   "source": [
    "with utils.timer():\n",
    "    rank_histogram = verif.compute_rank_histogram(da_fcst, da_obsv, indep_dims=('init_date','lead_time'))"
   ]
  },
  {
   "cell_type": "code",
   "execution_count": 55,
   "metadata": {
    "collapsed": true
   },
   "outputs": [
    {
     "name": "stdout",
     "output_type": "stream",
     "text": [
      "   Elapsed: 0.03739309310913086 sec\n"
     ]
    },
    {
     "data": {
      "image/png": "[encoded data removed]",
      "text/plain": [
       "<Figure size 576x216 with 1 Axes>"
      ]
     },
     "metadata": {},
     "output_type": "display_data"
    }
   ],
   "source": [
    "with utils.timer():\n",
    "    fig1 = plt.figure(figsize=(8,3))\n",
    "\n",
    "    ax1 = fig1.add_axes([0.1, 0.1, 0.8, 0.8])\n",
    "    ax1.grid()\n",
    "    ax1.bar(rank_histogram.bins,rank_histogram)\n",
    "    ax1.set_xlabel('bins')\n",
    "    ax1.set_ylabel('count');"
   ]
  },
  {
   "cell_type": "markdown",
   "metadata": {},
   "source": [
    "## (Continuous) ranked probability score"
   ]
  },
  {
   "cell_type": "code",
   "execution_count": null,
   "metadata": {},
   "outputs": [],
   "source": [
    "with utils.timer():\n",
    "    # Specify bins for computation of cdf -----\n",
    "    bins = np.linspace(0,200,20)\n",
    "\n",
    "    # Compute ranked probability score -----\n",
    "    rps = verif.compute_rps(da_fcst, da_obsv, bins=bins, indep_dims='init_date', ensemble_dim='ensemble')"
   ]
  },
  {
   "cell_type": "code",
   "execution_count": null,
   "metadata": {},
   "outputs": [],
   "source": [
    "with utils.timer():\n",
    "    fig1 = plt.figure(figsize=(8,4))\n",
    "\n",
    "    ax = fig1.add_axes([0.1, 0.1, 0.8, 0.8])\n",
    "    ax.grid()\n",
    "    ax.plot(rps['lead_time'],rps,linewidth=2)\n",
    "    ax.set_xlabel('Lead time [months]')\n",
    "    ax.set_ylabel('Ranked probability score');"
   ]
  },
  {
   "cell_type": "markdown",
   "metadata": {},
   "source": [
    "# Methods for continuous variables"
   ]
  },
  {
   "cell_type": "markdown",
   "metadata": {},
   "source": [
    "## Additive bias error"
   ]
  },
  {
   "cell_type": "code",
   "execution_count": null,
   "metadata": {},
   "outputs": [],
   "source": []
  },
  {
   "cell_type": "markdown",
   "metadata": {},
   "source": [
    "## Multiplicative bias error"
   ]
  },
  {
   "cell_type": "code",
   "execution_count": null,
   "metadata": {},
   "outputs": [],
   "source": []
  },
  {
   "cell_type": "markdown",
   "metadata": {},
   "source": [
    "## Mean absolute error"
   ]
  },
  {
   "cell_type": "code",
   "execution_count": null,
   "metadata": {},
   "outputs": [],
   "source": []
  },
  {
   "cell_type": "markdown",
   "metadata": {},
   "source": [
    "## Mean squared error"
   ]
  },
  {
   "cell_type": "code",
   "execution_count": null,
   "metadata": {},
   "outputs": [],
   "source": []
  },
  {
   "cell_type": "markdown",
   "metadata": {},
   "source": [
    "## Root mean squared error"
   ]
  },
  {
   "cell_type": "code",
   "execution_count": null,
   "metadata": {},
   "outputs": [],
   "source": []
  },
  {
   "cell_type": "markdown",
   "metadata": {},
   "source": [
    "#### Plot as a function of lead time"
   ]
  },
  {
   "cell_type": "markdown",
   "metadata": {},
   "source": [
    "# Close dask client"
   ]
  },
  {
   "cell_type": "code",
   "execution_count": null,
   "metadata": {},
   "outputs": [],
   "source": [
    "# with utils.timer():\n",
    "#     client.close()"
   ]
  },
  {
   "cell_type": "code",
   "execution_count": null,
   "metadata": {},
   "outputs": [],
   "source": []
  }
 ],
 "metadata": {
  "kernelspec": {
   "display_name": "Python [conda env:dts3_env]",
   "language": "python",
   "name": "conda-env-dts3_env-py"
  },
  "language_info": {
   "codemirror_mode": {
    "name": "ipython",
    "version": 3
   },
   "file_extension": ".py",
   "mimetype": "text/x-python",
   "name": "python",
   "nbconvert_exporter": "python",
   "pygments_lexer": "ipython3",
   "version": "3.6.4"
  }
 },
 "nbformat": 4,
 "nbformat_minor": 2
}
