{
 "cells": [
  {
   "cell_type": "markdown",
   "metadata": {},
   "source": [
    "# Tutorial demonstrating verification of v1 precip against jra55"
   ]
  },
  {
   "cell_type": "markdown",
   "metadata": {},
   "source": [
    "#### Import pyLatte package"
   ]
  },
  {
   "cell_type": "code",
   "execution_count": 96,
   "metadata": {},
   "outputs": [],
   "source": [
    "from pylatte import utils\n",
    "from pylatte import skill"
   ]
  },
  {
   "cell_type": "markdown",
   "metadata": {},
   "source": [
    "#### Currently, the following packages are required to load the data - this process will be replaced by the CAFE cookbook"
   ]
  },
  {
   "cell_type": "code",
   "execution_count": 97,
   "metadata": {},
   "outputs": [],
   "source": [
    "import numpy as np\n",
    "import pandas as pd\n",
    "import xarray as xr"
   ]
  },
  {
   "cell_type": "markdown",
   "metadata": {},
   "source": [
    "#### Import some plotting packages and widgets"
   ]
  },
  {
   "cell_type": "code",
   "execution_count": 98,
   "metadata": {},
   "outputs": [],
   "source": [
    "import matplotlib.pyplot as plt\n",
    "import warnings    \n",
    "warnings.filterwarnings(\"ignore\")\n",
    "\n",
    "# Jupyter specific -----\n",
    "from ipywidgets import FloatProgress\n",
    "%matplotlib inline"
   ]
  },
  {
   "cell_type": "markdown",
   "metadata": {},
   "source": [
    "# A note about the methodology of pyLatte\n",
    "The pyLatte package is constructed around the xarray Python package. This is particularly useful for verification computations which require large numbers of samples (different model runs) to converge. \n",
    "\n",
    "The approach here is to generate very large xarray objects that reference all data required for the verification, but do not store the data in memory. Operations are performed on these xarray objects out-of-memory. When it is necessary to perform a compute (e.g. to produce a plot), this is distributed over multiple processors using the dask Python package."
   ]
  },
  {
   "cell_type": "markdown",
   "metadata": {},
   "source": [
    "# Initialise dask (currently not working on vm31)"
   ]
  },
  {
   "cell_type": "code",
   "execution_count": 99,
   "metadata": {},
   "outputs": [],
   "source": [
    "# import dask\n",
    "# import distributed\n",
    "# client = distributed.Client(local_dir='/tmp/squ027-dask-worker-space', n_workers=4)\n",
    "# client"
   ]
  },
  {
   "cell_type": "markdown",
   "metadata": {},
   "source": [
    "# Construct xarray objects for forecasts and observations\n",
    "(The CAFE cookbook will replace these code blocks)"
   ]
  },
  {
   "cell_type": "code",
   "execution_count": 100,
   "metadata": {},
   "outputs": [],
   "source": [
    "# Location of forecast data -----\n",
    "fcst_folder = '/OSM/CBR/OA_DCFP/data/model_output/CAFE/forecasts/v1/'\n",
    "fcst_filename = 'atmos_daily*'\n",
    "fcst_variable = 'precip'\n",
    "\n",
    "# Location of observation data -----\n",
    "obsv_folder = '/OSM/CBR/OA_DCFP/data/observations/jra55/isobaric/061_tprat/cat/'\n",
    "obsv_filename = 'jra.55.tprat.000.1958010100_2016123121.nc'\n",
    "obsv_variable = 'TPRAT_GDS0_SFC_ave3h'"
   ]
  },
  {
   "cell_type": "code",
   "execution_count": 101,
   "metadata": {},
   "outputs": [],
   "source": [
    "# Initial dates to include (takes approximately 1 min 30 sec per date) -----\n",
    "init_dates = pd.date_range('2003-1','2003-5' , freq='1MS')\n",
    "\n",
    "# Ensembles to include -----\n",
    "ensembles = range(1,12)\n",
    "\n",
    "# Forecast length -----\n",
    "FCST_LENGTH = 2 # years"
   ]
  },
  {
   "cell_type": "code",
   "execution_count": 102,
   "metadata": {},
   "outputs": [],
   "source": [
    "# Resampling details -----\n",
    "resample_freq = 'MS'"
   ]
  },
  {
   "cell_type": "markdown",
   "metadata": {},
   "source": [
    "### Construct forecasts xarray object\n",
    "Note, dask has a known bug that manifests when trying to concatentate data containing timedelta64 arrays (see https://github.com/pydata/xarray/issues/1952 for further details). For example, try to concatenate the following two Datasets:\n",
    "\n",
    "`In : path = '/OSM/CBR/OA_DCFP/data/model_output/CAFE/forecasts/v1/yr2002/mn7/'`\n",
    "\n",
    "`In : ens5 = xr.open_mfdataset(path + 'OUTPUT.5/atmos_daily*.nc', autoclose=True)`\n",
    "\n",
    "`In : ens6 = xr.open_mfdataset(path + 'OUTPUT.6/atmos_daily*.nc', autoclose=True)`\n",
    "\n",
    "`In : xr.concat([ens5, ens6],'ensemble')`\n",
    "\n",
    "`Out : TypeError: invalid type promotion`\n",
    "\n",
    "The error here is actually caused by the variables `average_DT` and `time_bounds`, which are timedelta64 arrays. However, I still do not fully unstand the bug: concatenation of `ens4` and `ens5`, for example, works fine, even though `ens4` also contains the timedelta64 variables `average_DT` and `time_bounds`. Regardless, because of this bug, it is not possible currently to create an xarray Dataset object containing all model variables. Instead, only the variable of interest (i.e. `fcst_variable` and `obsv_variable`) are retained in the concatenated xarray object."
   ]
  },
  {
   "cell_type": "code",
   "execution_count": 103,
   "metadata": {},
   "outputs": [
    {
     "data": {
      "application/vnd.jupyter.widget-view+json": {
       "model_id": "936308f2395f427daa2531598813aa8b",
       "version_major": 2,
       "version_minor": 0
      },
      "text/html": [
       "<p>Failed to display Jupyter Widget of type <code>FloatProgress</code>.</p>\n",
       "<p>\n",
       "  If you're reading this message in the Jupyter Notebook or JupyterLab Notebook, it may mean\n",
       "  that the widgets JavaScript is still loading. If this message persists, it\n",
       "  likely means that the widgets JavaScript library is either not installed or\n",
       "  not enabled. See the <a href=\"https://ipywidgets.readthedocs.io/en/stable/user_install.html\">Jupyter\n",
       "  Widgets Documentation</a> for setup instructions.\n",
       "</p>\n",
       "<p>\n",
       "  If you're reading this message in another frontend (for example, a static\n",
       "  rendering on GitHub or <a href=\"https://nbviewer.jupyter.org/\">NBViewer</a>),\n",
       "  it may mean that your frontend doesn't currently support widgets.\n",
       "</p>\n"
      ],
      "text/plain": [
       "FloatProgress(value=0.0, description='Loading...', max=55.0)"
      ]
     },
     "metadata": {},
     "output_type": "display_data"
    }
   ],
   "source": [
    "# Instantiate progress bar -----\n",
    "f = FloatProgress(min=0, max=len(init_dates)*len(ensembles), description='Loading...') \n",
    "display(f)\n",
    "\n",
    "# Loop over initial dates -----\n",
    "fcst_list = []\n",
    "for init_date in init_dates:\n",
    "    year = init_date.year\n",
    "    month = init_date.month\n",
    "    \n",
    "    # Loop over ensembles -----\n",
    "    ens_list = []\n",
    "    for ensemble in ensembles:\n",
    "        # Signal to increment the progress bar -----\n",
    "        f.value += 1 \n",
    "        \n",
    "        # Stack ensembles into a list -----\n",
    "        path = fcst_folder + '/yr' + str(year) + '/mn' + str(month) + \\\n",
    "               '/OUTPUT.' + str(ensemble) + '/' + fcst_filename + '.nc'\n",
    "        dataset = xr.open_mfdataset(path, autoclose=True)[fcst_variable]\n",
    "        ens_list.append(dataset.resample(time=resample_freq) \\\n",
    "                               .sum(dim='time'))\n",
    "        \n",
    "    # Concatenate ensembles -----\n",
    "    ens_object = xr.concat(ens_list, dim='ensemble')\n",
    "    ens_object['ensemble'] = ensembles\n",
    "    \n",
    "    # Stack concatenated ensembles into a list for each initial date -----                       \n",
    "    fcst_list.append(utils.datetime_to_leadtime(ens_object))\n",
    "\n",
    "# Keep track of the lead time for each initialization -----\n",
    "n_lead_time = [len(x.lead_time) for x in fcst_list]\n",
    "\n",
    "# Concatenate initial dates -----\n",
    "da_fcst = xr.concat(fcst_list, dim='init_date')\n",
    "\n",
    "# Rechunk for chunksizes of at least 1,000,000 elements -----\n",
    "da_fcst = utils.prune(da_fcst.chunk(chunks={'ensemble' : len(da_fcst.ensemble), \n",
    "                                            'lead_time' : len(da_fcst.lead_time)}).squeeze())"
   ]
  },
  {
   "cell_type": "markdown",
   "metadata": {},
   "source": [
    "#### Truncate the forecast lead times at 2 years\n",
    "The January and July forecasts are run for 5 years rather than 2 years. The xarray concatenation above can deal with this, but fills the shorter forecasts with nans for lead times longer than 2 years. Let's get rid of some of these nans by truncating the forecasts at the lead time corresponding to the longest 2 year forecast."
   ]
  },
  {
   "cell_type": "code",
   "execution_count": 105,
   "metadata": {},
   "outputs": [],
   "source": [
    "max_increments = FCST_LENGTH * 12\n",
    "n_trunc = max([i for i in n_lead_time if i <= max_increments])\n",
    "da_fcst = da_fcst.isel(lead_time=range(n_trunc))"
   ]
  },
  {
   "cell_type": "markdown",
   "metadata": {},
   "source": [
    "### Construct observations xarray object"
   ]
  },
  {
   "cell_type": "code",
   "execution_count": 106,
   "metadata": {},
   "outputs": [
    {
     "data": {
      "application/vnd.jupyter.widget-view+json": {
       "model_id": "3173731268e4465eae601b9497efec25",
       "version_major": 2,
       "version_minor": 0
      },
      "text/html": [
       "<p>Failed to display Jupyter Widget of type <code>FloatProgress</code>.</p>\n",
       "<p>\n",
       "  If you're reading this message in the Jupyter Notebook or JupyterLab Notebook, it may mean\n",
       "  that the widgets JavaScript is still loading. If this message persists, it\n",
       "  likely means that the widgets JavaScript library is either not installed or\n",
       "  not enabled. See the <a href=\"https://ipywidgets.readthedocs.io/en/stable/user_install.html\">Jupyter\n",
       "  Widgets Documentation</a> for setup instructions.\n",
       "</p>\n",
       "<p>\n",
       "  If you're reading this message in another frontend (for example, a static\n",
       "  rendering on GitHub or <a href=\"https://nbviewer.jupyter.org/\">NBViewer</a>),\n",
       "  it may mean that your frontend doesn't currently support widgets.\n",
       "</p>\n"
      ],
      "text/plain": [
       "FloatProgress(value=0.0, description='Loading...', max=1.0)"
      ]
     },
     "metadata": {},
     "output_type": "display_data"
    }
   ],
   "source": [
    "# Instantiate progress bar -----\n",
    "f = FloatProgress(min=0, max=1, description='Loading...') \n",
    "display(f)\n",
    "\n",
    "# JRA temperature fields are only save in a time-concatenated form -----\n",
    "path = obsv_folder + obsv_filename\n",
    "dataset = xr.open_mfdataset(path, autoclose=True)[obsv_variable]\n",
    "da_obsv = dataset.rename(fcst_variable) \\\n",
    "                 .rename({'initial_time0_hours' : 'time', 'g0_lon_3' : 'lon', 'g0_lat_2' : 'lat'}) \\\n",
    "                 .resample(time=resample_freq) \\\n",
    "                 .sum(dim='time')\n",
    "\n",
    "# Stack by initial date to match forecast structure -----\n",
    "da_obsv = utils.stack_by_init_date(da_obsv,da_fcst.init_date.values,n_trunc)\n",
    "f.value += 1\n",
    "\n",
    "# Average over forecast dimension if it is exists -----\n",
    "if 'forecast_time1' in da_obsv.coords:\n",
    "    da_obsv = da_obsv.mean(dim='forecast_time1')\n",
    "\n",
    "# Rechunk for chunksizes of at least 1,000,000 elements -----\n",
    "da_obsv = utils.prune(da_obsv.chunk(chunks={'init_date' : len(da_obsv.init_date)}).squeeze())"
   ]
  },
  {
   "cell_type": "markdown",
   "metadata": {},
   "source": [
    "# Let's look at average monthly rainfall over Tasmania"
   ]
  },
  {
   "cell_type": "markdown",
   "metadata": {},
   "source": [
    "##### Extract forecast and observation over region\n",
    "Note, we `compute()` the xarray objects here to save time later on. Once dask is working, it will probably be most sensible to leave the objects uncomputed"
   ]
  },
  {
   "cell_type": "code",
   "execution_count": 107,
   "metadata": {},
   "outputs": [
    {
     "name": "stdout",
     "output_type": "stream",
     "text": [
      "   Elapsed: 48.50764465332031 sec\n"
     ]
    }
   ],
   "source": [
    "with utils.timer():\n",
    "    # Region of interest -----\n",
    "    region = (-44.0, -40.0, 144.0 , 148.0) # (lat_min,lat_max,lon_min,lon_max)\n",
    "\n",
    "    unit_conv = 60 * 60 * 24 / 998.2 * 1000\n",
    "    da_fcst = utils.calc_boxavg_latlon(da_fcst * unit_conv, region).compute()\n",
    "\n",
    "    da_obsv = utils.calc_boxavg_latlon(da_obsv, region).compute()"
   ]
  },
  {
   "cell_type": "markdown",
   "metadata": {},
   "source": [
    "##### Load climatology data\n",
    "Various climatologies are/will be accessable using `utils.load_climatology()`. Here we use a climatology computed over the full 55 year jra reanalysis"
   ]
  },
  {
   "cell_type": "code",
   "execution_count": 108,
   "metadata": {},
   "outputs": [],
   "source": [
    "jra_clim = utils.load_climatology('jra_1958-2016', 'precip', freq='MS')\n",
    "\n",
    "da_jra_clim = utils.calc_boxavg_latlon(jra_clim, region).compute()"
   ]
  },
  {
   "cell_type": "markdown",
   "metadata": {},
   "source": [
    "##### Compute anomaly data\n",
    "Recall that the forecast and observation data are saved as functions of lead time and initial date. The function `utils.anomalize()` computes anomalies given data and a climatology which each have a datetime dimension `time`. Thus it is necessary to first convert from the lead time/initial date format to a datetime format, then compute the anomaly, the convert back to the lead time/initial date format. The functions `utils.datetime_to_leadtime()` and `utils.leadtime_to_datetime()` enable these types of operations"
   ]
  },
  {
   "cell_type": "code",
   "execution_count": 109,
   "metadata": {},
   "outputs": [],
   "source": [
    "anomalize = lambda data, clim: utils.datetime_to_leadtime(\n",
    "                                   utils.anomalize(\n",
    "                                       utils.leadtime_to_datetime(data),clim))"
   ]
  },
  {
   "cell_type": "code",
   "execution_count": 110,
   "metadata": {},
   "outputs": [],
   "source": [
    "da_fcst_anom = da_fcst.groupby('init_date').apply(anomalize, clim=da_jra_clim)\n",
    "\n",
    "da_obsv_anom = da_obsv.groupby('init_date').apply(anomalize, clim=da_jra_clim)"
   ]
  },
  {
   "cell_type": "markdown",
   "metadata": {},
   "source": [
    "##### Compute persistence data\n",
    "This requires repeating the data at the first lead time over all lead times. `utils.repeat_data()` allows us to do this"
   ]
  },
  {
   "cell_type": "code",
   "execution_count": 111,
   "metadata": {},
   "outputs": [],
   "source": [
    "da_pers = utils.repeat_data(da_obsv,'lead_time')"
   ]
  },
  {
   "cell_type": "markdown",
   "metadata": {},
   "source": [
    "##### Compute climatogoloy in lead time/inital date format\n",
    "This is really just for convenience below"
   ]
  },
  {
   "cell_type": "code",
   "execution_count": 112,
   "metadata": {},
   "outputs": [],
   "source": [
    "da_clim = (0 * da_obsv).groupby('init_date').apply(anomalize, clim=-da_jra_clim)"
   ]
  },
  {
   "cell_type": "markdown",
   "metadata": {},
   "source": [
    "## Edit metrics to use better loop structure"
   ]
  },
  {
   "cell_type": "code",
   "execution_count": 140,
   "metadata": {},
   "outputs": [],
   "source": [
    "def compute_Brier_score_old(cmp_likelihood, ref_logical, indep_dims, cmp_prob=None):\n",
    "    \"\"\" \n",
    "    Computes the Brier score(s) of an event given the comparison likelihood and reference logical \n",
    "    event data. When comparison probability bins are also provided, also computes the reliability, \n",
    "    resolution and uncertainty components of the Brier score\n",
    "    \"\"\"\n",
    "    \n",
    "    if isinstance(indep_dims, str):\n",
    "        indep_dims = [indep_dims]\n",
    "    \n",
    "    ref_binary = ref_logical.copy()*1\n",
    "\n",
    "    # Calculate total Brier score -----\n",
    "    N = 1\n",
    "    if indep_dims == None:\n",
    "        Brier = (1 / N) * ((cmp_likelihood - ref_binary) ** 2).sum(dim=indep_dims).rename('Brier_score')\n",
    "    else: \n",
    "        for indep_dim in indep_dims:\n",
    "            N = N * len(cmp_likelihood[indep_dim])\n",
    "        Brier = (1 / N) * ((cmp_likelihood - ref_binary) ** 2).rename('Brier_score')\n",
    "        \n",
    "    # Calculate components\n",
    "    if cmp_prob is not None:\n",
    "\n",
    "        # Initialise probability bins -----\n",
    "        cmp_prob_edges = utils.get_bin_edges(cmp_prob)\n",
    "\n",
    "        # Initialise mean_cmp_prob array -----\n",
    "        mean_cmp_likelihood = cmp_likelihood.copy()\n",
    "        \n",
    "        # Logical of comparisons that fall within first probability bin -----\n",
    "        cmp_in_bin = (cmp_likelihood >= cmp_prob_edges[0]) & \\\n",
    "                      (cmp_likelihood < cmp_prob_edges[1])\n",
    "\n",
    "        # Compute mean comparison probability -----\n",
    "        if indep_dims == None:\n",
    "            mean_cmp_likelihood = mean_cmp_likelihood.where(~cmp_in_bin) \\\n",
    "                                   .fillna(mean_cmp_likelihood.where(cmp_in_bin))\n",
    "        else:\n",
    "            mean_cmp_likelihood = mean_cmp_likelihood.where(~cmp_in_bin) \\\n",
    "                                   .fillna(mean_cmp_likelihood.where(cmp_in_bin).mean(dim=indep_dims))\n",
    "                \n",
    "        # Mean comparison probability within first probability bin -----\n",
    "        if indep_dims == None:\n",
    "            mean_cmp_prob = cmp_likelihood.where(cmp_in_bin,np.nan)\n",
    "        else:\n",
    "            mean_cmp_prob = cmp_likelihood.where(cmp_in_bin,np.nan).mean(dim=indep_dims)\n",
    "        mean_cmp_prob.coords['comparison_probability'] = cmp_prob[0]\n",
    "        mean_cmp_prob = mean_cmp_prob.expand_dims('comparison_probability')\n",
    "\n",
    "        # Number of comparisons that fall within probability bin -----\n",
    "        if indep_dims == None:\n",
    "            cmp_number = cmp_in_bin\n",
    "        else:\n",
    "            cmp_number = cmp_in_bin.sum(dim=indep_dims)\n",
    "        cmp_number.coords['comparison_probability'] = cmp_prob[0]\n",
    "        cmp_number = cmp_number.expand_dims('comparison_probability')\n",
    "\n",
    "        # Number of reference occurences where comparison likelihood is within probability bin -----\n",
    "        if indep_dims == None:\n",
    "            ref_occur = ((cmp_in_bin == True) & (ref_logical == True))\n",
    "        else:\n",
    "            ref_occur = ((cmp_in_bin == True) & (ref_logical == True)).sum(dim=indep_dims)\n",
    "        ref_occur.coords['comparison_probability'] = cmp_prob[0]\n",
    "        ref_occur = ref_occur.expand_dims('comparison_probability')\n",
    "\n",
    "        # Loop over probability bins -----\n",
    "        for idx in range(1,len(cmp_prob_edges)-1):\n",
    "            # Logical of comparisons that fall within probability bin -----\n",
    "            del cmp_in_bin\n",
    "            cmp_in_bin = (cmp_likelihood >= cmp_prob_edges[idx]) & \\\n",
    "                          (cmp_likelihood < cmp_prob_edges[idx+1])\n",
    "            \n",
    "            if indep_dims == None:\n",
    "                mean_cmp_likelihood = mean_cmp_likelihood.where(~cmp_in_bin) \\\n",
    "                                   .fillna(mean_cmp_likelihood.where(cmp_in_bin))\n",
    "            else:\n",
    "                mean_cmp_likelihood = mean_cmp_likelihood.where(~cmp_in_bin) \\\n",
    "                                   .fillna(mean_cmp_likelihood.where(cmp_in_bin).mean(dim=indep_dims))\n",
    "            cmp_in_bin.coords['comparison_probability'] = cmp_prob[idx]\n",
    "            \n",
    "            # Mean comparison probability within current probability bin -----\n",
    "            if indep_dims == None:\n",
    "                mean_cmp_prob_temp = cmp_likelihood.where(cmp_in_bin,np.nan)\n",
    "            else:\n",
    "                mean_cmp_prob_temp = cmp_likelihood.where(cmp_in_bin,np.nan).mean(dim=indep_dims)\n",
    "            mean_cmp_prob_temp.coords['comparison_probability'] = cmp_prob[idx]\n",
    "            mean_cmp_prob = xr.concat([mean_cmp_prob, mean_cmp_prob_temp],\n",
    "                                       dim='comparison_probability')\n",
    "\n",
    "            # Number of comparisons that fall within probability bin -----\n",
    "            if indep_dims == None:\n",
    "                cmp_number = xr.concat([cmp_number, cmp_in_bin],dim='comparison_probability')\n",
    "            else:\n",
    "                cmp_number = xr.concat([cmp_number, cmp_in_bin.sum(dim=indep_dims)], \\\n",
    "                                        dim='comparison_probability')\n",
    "        \n",
    "            # Number of reference occurences where comparison likelihood is within probability bin -----\n",
    "            if indep_dims == None:\n",
    "                ref_occur = xr.concat([ref_occur, ((cmp_in_bin == True) \\\n",
    "                                                     & (ref_logical == True))],dim='comparison_probability')\n",
    "            else:\n",
    "                ref_occur = xr.concat([ref_occur, ((cmp_in_bin == True) \\\n",
    "                                                     & (ref_logical == True)) \\\n",
    "                                          .sum(dim=indep_dims)],dim='comparison_probability')\n",
    "\n",
    "        # Compute Brier components -----\n",
    "        base_rate = ref_occur / cmp_number\n",
    "        Brier_reliability = (1 / N) * (cmp_number*(mean_cmp_prob - base_rate) ** 2) \\\n",
    "                                       .sum(dim='comparison_probability',skipna=True)\n",
    "        if indep_dims == None:\n",
    "            sample_clim = ref_binary\n",
    "        else:\n",
    "            sample_clim = ref_binary.mean(dim=indep_dims)\n",
    "        Brier_resolution = (1 / N) * (cmp_number*(base_rate - sample_clim) ** 2) \\\n",
    "                                      .sum(dim='comparison_probability',skipna=True)\n",
    "        Brier_uncertainty = sample_clim * (1 - sample_clim)\n",
    "        \n",
    "        # When a binned approach is used, compute total Brier using binned probabilities -----\n",
    "        # (This way Brier_total = Brier_reliability - Brier_resolution + Brier_uncertainty)\n",
    "        if indep_dims == None:\n",
    "            Brier_total = (1 / N) * ((mean_cmp_likelihood - ref_binary) ** 2)\n",
    "        else:\n",
    "            Brier_total = (1 / N) * ((mean_cmp_likelihood - ref_binary) ** 2).sum(dim=indep_dims)\n",
    "        \n",
    "        # Package in dataset -----\n",
    "        Brier = Brier_total.to_dataset(name='Brier_total')\n",
    "        Brier.Brier_total.attrs['name'] = 'total Brier score'\n",
    "        Brier['Brier_reliability'] = Brier_reliability\n",
    "        Brier.Brier_reliability.attrs['name'] = 'reliability component of Brier score'\n",
    "        Brier['Brier_resolution'] = Brier_resolution\n",
    "        Brier.Brier_resolution.attrs['name'] = 'resolution component of Brier score'\n",
    "        Brier['Brier_uncertainty'] = Brier_uncertainty\n",
    "        Brier.Brier_uncertainty.attrs['name'] = 'uncertainty component of Brier score'\n",
    "        \n",
    "    return Brier\n"
   ]
  },
  {
   "cell_type": "raw",
   "metadata": {},
   "source": [
    "fcst_list = []\n",
    "for init_date in init_dates:\n",
    "    year = init_date.year\n",
    "    month = init_date.month\n",
    "    \n",
    "    # Loop over ensembles -----\n",
    "    ens_list = []\n",
    "    for ensemble in ensembles:\n",
    "        # Signal to increment the progress bar -----\n",
    "        f.value += 1 \n",
    "        \n",
    "        # Stack ensembles into a list -----\n",
    "        path = fcst_folder + '/yr' + str(year) + '/mn' + str(month) + \\\n",
    "               '/OUTPUT.' + str(ensemble) + '/' + fcst_filename + '.nc'\n",
    "        dataset = xr.open_mfdataset(path, autoclose=True)[fcst_variable]\n",
    "        ens_list.append(dataset.resample(time=resample_freq) \\\n",
    "                               .sum(dim='time'))\n",
    "        \n",
    "    # Concatenate ensembles -----\n",
    "    ens_object = xr.concat(ens_list, dim='ensemble')\n",
    "    ens_object['ensemble'] = ensembles\n",
    "    \n",
    "    # Stack concatenated ensembles into a list for each initial date -----                       \n",
    "    fcst_list.append(utils.datetime_to_leadtime(ens_object))\n",
    "\n",
    "# Keep track of the lead time for each initialization -----\n",
    "n_lead_time = [len(x.lead_time) for x in fcst_list]\n",
    "\n",
    "# Concatenate initial dates -----\n",
    "da_fcst = xr.concat(fcst_list, dim='init_date')"
   ]
  },
  {
   "cell_type": "code",
   "execution_count": 141,
   "metadata": {},
   "outputs": [],
   "source": [
    "def compute_Brier_score_new(cmp_likelihood, ref_logical, indep_dims, cmp_prob=None):\n",
    "    \"\"\" \n",
    "    Computes the Brier score(s) of an event given the comparison likelihood and reference logical \n",
    "    event data. When comparison probability bins are also provided, also computes the reliability, \n",
    "    resolution and uncertainty components of the Brier score\n",
    "    \"\"\"\n",
    "    \n",
    "    if isinstance(indep_dims, str):\n",
    "        indep_dims = [indep_dims]\n",
    "    \n",
    "    ref_binary = ref_logical.copy()*1\n",
    "\n",
    "    # Calculate total Brier score -----\n",
    "    N = 1\n",
    "    if indep_dims == None:\n",
    "        Brier = (1 / N) * ((cmp_likelihood - ref_binary) ** 2).sum(dim=indep_dims).rename('Brier_score')\n",
    "    else: \n",
    "        N = [N * len(cmp_likelihood[indep_dim]) for indep_dim in indep_dims][0]\n",
    "        Brier = (1 / N) * ((cmp_likelihood - ref_binary) ** 2).rename('Brier_score')\n",
    "        \n",
    "    # Calculate components\n",
    "    if cmp_prob is not None:\n",
    "\n",
    "        # Initialise probability bins -----\n",
    "        cmp_prob_edges = utils.get_bin_edges(cmp_prob)\n",
    "\n",
    "        # Initialise mean_cmp_likelihood array -----\n",
    "        mean_cmp_likelihood = cmp_likelihood.copy(deep=True)\n",
    "        \n",
    "        # Loop over probability bins -----\n",
    "        mean_cmp_prob_list = []\n",
    "        cmp_number_list = []\n",
    "        ref_occur_list = []\n",
    "        for idx in range(len(cmp_prob_edges)-1):\n",
    "            # Logical of comparisons that fall within probability bin -----\n",
    "            cmp_in_bin = (cmp_likelihood >= cmp_prob_edges[idx]) & \\\n",
    "                         (cmp_likelihood < cmp_prob_edges[idx+1])\n",
    "            \n",
    "            if indep_dims == None:\n",
    "                # Mean comparison probability within current probability bin -----\n",
    "                mean_cmp_prob_list.append(cmp_likelihood.where(cmp_in_bin,np.nan))\n",
    "                \n",
    "                # Number of comparisons that fall within probability bin -----\n",
    "                cmp_number_list.append(cmp_in_bin)\n",
    "                \n",
    "                # Number of reference occurences where comparison likelihood is within probability bin -----\n",
    "                ref_occur_list.append(((cmp_in_bin == True) & (ref_logical == True)))\n",
    "            else:\n",
    "                # Replace likelihood with mean likelihood (so that Brier components add to total) -----\n",
    "                mean_cmp_likelihood = mean_cmp_likelihood.where(~cmp_in_bin).fillna( \\\n",
    "                                                         mean_cmp_likelihood.where(cmp_in_bin)\n",
    "                                                                            .mean(dim=indep_dims))\n",
    "                \n",
    "                # Mean comparison probability within current probability bin -----\n",
    "                mean_cmp_prob_list.append(cmp_likelihood.where(cmp_in_bin,np.nan) \\\n",
    "                                                        .mean(dim=indep_dims)) \n",
    "                \n",
    "                # Number of comparisons that fall within probability bin -----\n",
    "                cmp_number_list.append(cmp_in_bin.sum(dim=indep_dims))\n",
    "                \n",
    "                # Number of reference occurences where comparison likelihood is within probability bin -----\n",
    "                ref_occur_list.append(((cmp_in_bin == True) & (ref_logical == True)) \\\n",
    "                                        .sum(dim=indep_dims)) \n",
    "\n",
    "        # Concatenate lists -----\n",
    "        mean_cmp_prob = xr.concat(mean_cmp_prob_list, dim='comparison_probability')\n",
    "        mean_cmp_prob['comparison_probability'] = cmp_prob\n",
    "        cmp_number = xr.concat(cmp_number_list, dim='comparison_probability')\n",
    "        cmp_number['comparison_probability'] = cmp_prob\n",
    "        ref_occur = xr.concat(ref_occur_list, dim='comparison_probability')\n",
    "        ref_occur['comparison_probability'] = cmp_prob\n",
    "\n",
    "        # Compute Brier components -----\n",
    "        base_rate = ref_occur / cmp_number\n",
    "        Brier_reliability = (1 / N) * (cmp_number*(mean_cmp_prob - base_rate) ** 2) \\\n",
    "                                       .sum(dim='comparison_probability',skipna=True)\n",
    "        if indep_dims == None:\n",
    "            sample_clim = ref_binary\n",
    "        else:\n",
    "            sample_clim = ref_binary.mean(dim=indep_dims)\n",
    "        Brier_resolution = (1 / N) * (cmp_number*(base_rate - sample_clim) ** 2) \\\n",
    "                                      .sum(dim='comparison_probability',skipna=True)\n",
    "        Brier_uncertainty = sample_clim * (1 - sample_clim)\n",
    "        \n",
    "        # When a binned approach is used, compute total Brier using binned probabilities -----\n",
    "        # (This way Brier_total = Brier_reliability - Brier_resolution + Brier_uncertainty)\n",
    "        if indep_dims == None:\n",
    "            Brier_total = (1 / N) * ((mean_cmp_likelihood - ref_binary) ** 2)\n",
    "        else:\n",
    "            Brier_total = (1 / N) * ((mean_cmp_likelihood - ref_binary) ** 2).sum(dim=indep_dims)\n",
    "        \n",
    "        # Package in dataset -----\n",
    "        Brier = Brier_total.to_dataset(name='Brier_total')\n",
    "        Brier.Brier_total.attrs['name'] = 'total Brier score'\n",
    "        Brier['Brier_reliability'] = Brier_reliability\n",
    "        Brier.Brier_reliability.attrs['name'] = 'reliability component of Brier score'\n",
    "        Brier['Brier_resolution'] = Brier_resolution\n",
    "        Brier.Brier_resolution.attrs['name'] = 'resolution component of Brier score'\n",
    "        Brier['Brier_uncertainty'] = Brier_uncertainty\n",
    "        Brier.Brier_uncertainty.attrs['name'] = 'uncertainty component of Brier score'\n",
    "        \n",
    "    return Brier"
   ]
  },
  {
   "cell_type": "code",
   "execution_count": 142,
   "metadata": {},
   "outputs": [],
   "source": [
    "event = '(> 100) and (< 600)'\n",
    "\n",
    "# Compute the event data for forecast likelihood and observations -----\n",
    "fcst_likelihood = skill.compute_likelihood(skill.did_event(da_fcst, event))\n",
    "obsv_logical = skill.did_event(da_obsv, event)\n",
    "\n",
    "# Compute the Brier score -----\n",
    "fcst_probabilities = np.linspace(0,1,len(da_fcst['ensemble'])-6)"
   ]
  },
  {
   "cell_type": "code",
   "execution_count": 143,
   "metadata": {},
   "outputs": [
    {
     "data": {
      "text/plain": [
       "<xarray.Dataset>\n",
       "Dimensions:            (lead_time: 24)\n",
       "Coordinates:\n",
       "  * lead_time          (lead_time) int64 0 1 2 3 4 5 6 7 8 9 10 11 12 13 14 ...\n",
       "Data variables:\n",
       "    Brier_total        (lead_time) float64 0.2488 0.2182 0.1521 0.1328 ...\n",
       "    Brier_reliability  (lead_time) float64 0.2488 0.2182 0.05207 0.1328 ...\n",
       "    Brier_resolution   (lead_time) float64 0.0 0.16 0.14 0.24 0.01 0.16 0.14 ...\n",
       "    Brier_uncertainty  (lead_time) float64 0.0 0.16 0.24 0.24 0.16 0.16 0.24 ..."
      ]
     },
     "execution_count": 143,
     "metadata": {},
     "output_type": "execute_result"
    }
   ],
   "source": [
    "Brier_old = compute_Brier_score_old(fcst_likelihood,obsv_logical,cmp_prob=fcst_probabilities,\n",
    "                                      indep_dims='init_date')\n",
    "\n",
    "Brier_old"
   ]
  },
  {
   "cell_type": "code",
   "execution_count": 144,
   "metadata": {},
   "outputs": [
    {
     "data": {
      "text/plain": [
       "<xarray.Dataset>\n",
       "Dimensions:            (lead_time: 24)\n",
       "Coordinates:\n",
       "  * lead_time          (lead_time) int64 0 1 2 3 4 5 6 7 8 9 10 11 12 13 14 ...\n",
       "Data variables:\n",
       "    Brier_total        (lead_time) float64 0.2488 0.2182 0.1521 0.1328 ...\n",
       "    Brier_reliability  (lead_time) float64 0.2488 0.2182 0.05207 0.1328 ...\n",
       "    Brier_resolution   (lead_time) float64 0.0 0.16 0.14 0.24 0.01 0.16 0.14 ...\n",
       "    Brier_uncertainty  (lead_time) float64 0.0 0.16 0.24 0.24 0.16 0.16 0.24 ..."
      ]
     },
     "execution_count": 144,
     "metadata": {},
     "output_type": "execute_result"
    }
   ],
   "source": [
    "Brier_new = compute_Brier_score_new(fcst_likelihood,obsv_logical,cmp_prob=fcst_probabilities,\n",
    "                                      indep_dims='init_date')\n",
    "\n",
    "Brier_new"
   ]
  },
  {
   "cell_type": "code",
   "execution_count": 145,
   "metadata": {},
   "outputs": [
    {
     "data": {
      "text/plain": [
       "True"
      ]
     },
     "execution_count": 145,
     "metadata": {},
     "output_type": "execute_result"
    }
   ],
   "source": [
    "Brier_old.equals(Brier_new)"
   ]
  },
  {
   "cell_type": "code",
   "execution_count": null,
   "metadata": {},
   "outputs": [],
   "source": []
  }
 ],
 "metadata": {
  "kernelspec": {
   "display_name": "Python [conda env:dts3_env]",
   "language": "python",
   "name": "conda-env-dts3_env-py"
  },
  "language_info": {
   "codemirror_mode": {
    "name": "ipython",
    "version": 3
   },
   "file_extension": ".py",
   "mimetype": "text/x-python",
   "name": "python",
   "nbconvert_exporter": "python",
   "pygments_lexer": "ipython3",
   "version": "3.6.4"
  }
 },
 "nbformat": 4,
 "nbformat_minor": 2
}
